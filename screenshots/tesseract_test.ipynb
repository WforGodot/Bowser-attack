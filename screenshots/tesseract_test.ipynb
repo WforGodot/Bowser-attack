{
 "cells": [
  {
   "cell_type": "code",
   "execution_count": 1,
   "metadata": {},
   "outputs": [
    {
     "ename": "FileNotFoundError",
     "evalue": "[Errno 2] No such file or directory: 'screenshots/screenshot_1700386515.png'",
     "output_type": "error",
     "traceback": [
      "\u001b[1;31m---------------------------------------------------------------------------\u001b[0m",
      "\u001b[1;31mFileNotFoundError\u001b[0m                         Traceback (most recent call last)",
      "\u001b[1;32mc:\\Users\\proje\\Documents\\GitHub\\Bowser-attack\\bowser\\tesseract_test.ipynb Cell 1\u001b[0m line \u001b[0;36m6\n\u001b[0;32m      <a href='vscode-notebook-cell:/c%3A/Users/proje/Documents/GitHub/Bowser-attack/bowser/tesseract_test.ipynb#W0sZmlsZQ%3D%3D?line=3'>4</a>\u001b[0m \u001b[39m# If you have a path to an image file\u001b[39;00m\n\u001b[0;32m      <a href='vscode-notebook-cell:/c%3A/Users/proje/Documents/GitHub/Bowser-attack/bowser/tesseract_test.ipynb#W0sZmlsZQ%3D%3D?line=4'>5</a>\u001b[0m image_path \u001b[39m=\u001b[39m \u001b[39m'\u001b[39m\u001b[39mscreenshots/screenshot_1700386515.png\u001b[39m\u001b[39m'\u001b[39m\n\u001b[1;32m----> <a href='vscode-notebook-cell:/c%3A/Users/proje/Documents/GitHub/Bowser-attack/bowser/tesseract_test.ipynb#W0sZmlsZQ%3D%3D?line=5'>6</a>\u001b[0m image \u001b[39m=\u001b[39m Image\u001b[39m.\u001b[39;49mopen(image_path)\n\u001b[0;32m      <a href='vscode-notebook-cell:/c%3A/Users/proje/Documents/GitHub/Bowser-attack/bowser/tesseract_test.ipynb#W0sZmlsZQ%3D%3D?line=7'>8</a>\u001b[0m \u001b[39m# Use Tesseract to do OCR on the image\u001b[39;00m\n\u001b[0;32m      <a href='vscode-notebook-cell:/c%3A/Users/proje/Documents/GitHub/Bowser-attack/bowser/tesseract_test.ipynb#W0sZmlsZQ%3D%3D?line=8'>9</a>\u001b[0m text \u001b[39m=\u001b[39m pytesseract\u001b[39m.\u001b[39mimage_to_string(image)\n",
      "File \u001b[1;32mc:\\Users\\proje\\anaconda3\\envs\\VerbalEnv2\\lib\\site-packages\\PIL\\Image.py:3243\u001b[0m, in \u001b[0;36mopen\u001b[1;34m(fp, mode, formats)\u001b[0m\n\u001b[0;32m   3240\u001b[0m     filename \u001b[39m=\u001b[39m fp\n\u001b[0;32m   3242\u001b[0m \u001b[39mif\u001b[39;00m filename:\n\u001b[1;32m-> 3243\u001b[0m     fp \u001b[39m=\u001b[39m builtins\u001b[39m.\u001b[39;49mopen(filename, \u001b[39m\"\u001b[39;49m\u001b[39mrb\u001b[39;49m\u001b[39m\"\u001b[39;49m)\n\u001b[0;32m   3244\u001b[0m     exclusive_fp \u001b[39m=\u001b[39m \u001b[39mTrue\u001b[39;00m\n\u001b[0;32m   3246\u001b[0m \u001b[39mtry\u001b[39;00m:\n",
      "\u001b[1;31mFileNotFoundError\u001b[0m: [Errno 2] No such file or directory: 'screenshots/screenshot_1700386515.png'"
     ]
    }
   ],
   "source": [
    "import pytesseract\n",
    "from PIL import Image\n",
    "\n",
    "# If you have a path to an image file\n",
    "image_path = 'screenshots/screenshot_1700386515.png'\n",
    "image = Image.open(image_path)\n",
    "\n",
    "# Use Tesseract to do OCR on the image\n",
    "text = pytesseract.image_to_string(image)\n",
    "\n",
    "print(text)"
   ]
  },
  {
   "cell_type": "code",
   "execution_count": 17,
   "metadata": {},
   "outputs": [],
   "source": [
    "import pytesseract\n",
    "from PIL import Image, ImageDraw, ImageFont\n",
    "\n",
    "\n",
    "pytesseract.pytesseract.tesseract_cmd = r'C:\\Program Files\\Tesseract-OCR\\tesseract.exe'  # Example for Windows\n",
    "def annotate_image_with_text(image_path, output_path, confidence_threshold=60):\n",
    "    # Load the image\n",
    "    image = Image.open(image_path)\n",
    "    draw = ImageDraw.Draw(image)\n",
    "\n",
    "    # Optionally, if you want to use a specific font, provide the font path and size\n",
    "    # font = ImageFont.truetype(\"path_to_font.ttf\", size=12)\n",
    "    \n",
    "    # Use Tesseract to do OCR on the image and get bounding box information\n",
    "    data = pytesseract.image_to_data(image, config='--psm 11', output_type=pytesseract.Output.DICT)\n",
    "\n",
    "    # Iterate through each text element\n",
    "    for i in range(len(data['text'])):\n",
    "        # Only consider elements with confidence greater than the threshold\n",
    "        if int(data['conf'][i]) > confidence_threshold:\n",
    "            # Extract coordinates\n",
    "            x, y, w, h = (data['left'][i], data['top'][i], data['width'][i], data['height'][i])\n",
    "            text = data['text'][i]\n",
    "            \n",
    "            # Draw the bounding box\n",
    "            draw.rectangle([x, y, x + w, y + h], outline='red')\n",
    "            \n",
    "            # Draw the text\n",
    "            # If you have a specific font, replace `font=None` with `font=font`\n",
    "            draw.text((x, y - 10), text, fill='red', font=None)\n",
    "\n",
    "    # Save the annotated image\n",
    "    image.save(output_path)\n",
    "\n",
    "# Example usage:\n",
    "# annotate_image_with_text('path_to_your_image.jpg', 'path_to_save_annotated_image.jpg')\n"
   ]
  },
  {
   "cell_type": "code",
   "execution_count": 4,
   "metadata": {},
   "outputs": [],
   "source": [
    "\n"
   ]
  },
  {
   "cell_type": "code",
   "execution_count": 16,
   "metadata": {},
   "outputs": [],
   "source": [
    "annotate_image_with_text('screenshot_1700386515.png', 'screenshot_1700386515a.png')"
   ]
  },
  {
   "cell_type": "code",
   "execution_count": 10,
   "metadata": {},
   "outputs": [
    {
     "ename": "TclError",
     "evalue": "unknown option \"-colour\"",
     "output_type": "error",
     "traceback": [
      "\u001b[1;31m---------------------------------------------------------------------------\u001b[0m",
      "\u001b[1;31mTclError\u001b[0m                                  Traceback (most recent call last)",
      "\u001b[1;32mc:\\Users\\proje\\Documents\\GitHub\\Bowser-attack\\screenshots\\tesseract_test.ipynb Cell 5\u001b[0m line \u001b[0;36m2\n\u001b[0;32m     <a href='vscode-notebook-cell:/c%3A/Users/proje/Documents/GitHub/Bowser-attack/screenshots/tesseract_test.ipynb#W4sZmlsZQ%3D%3D?line=22'>23</a>\u001b[0m canvas\u001b[39m.\u001b[39mpack()\n\u001b[0;32m     <a href='vscode-notebook-cell:/c%3A/Users/proje/Documents/GitHub/Bowser-attack/screenshots/tesseract_test.ipynb#W4sZmlsZQ%3D%3D?line=25'>26</a>\u001b[0m \u001b[39m# Create a rectangle with a bright red outline\u001b[39;00m\n\u001b[1;32m---> <a href='vscode-notebook-cell:/c%3A/Users/proje/Documents/GitHub/Bowser-attack/screenshots/tesseract_test.ipynb#W4sZmlsZQ%3D%3D?line=26'>27</a>\u001b[0m rect \u001b[39m=\u001b[39m canvas\u001b[39m.\u001b[39;49mcreate_rectangle(\u001b[39m0\u001b[39;49m, \u001b[39m0\u001b[39;49m, \u001b[39m0\u001b[39;49m, \u001b[39m0\u001b[39;49m, colour \u001b[39m=\u001b[39;49m \u001b[39m'\u001b[39;49m\u001b[39m#ff0000\u001b[39;49m\u001b[39m'\u001b[39;49m, outline\u001b[39m=\u001b[39;49m\u001b[39m'\u001b[39;49m\u001b[39m#ff0000\u001b[39;49m\u001b[39m'\u001b[39;49m, width\u001b[39m=\u001b[39;49m\u001b[39m5\u001b[39;49m, dash\u001b[39m=\u001b[39;49m(\u001b[39m4\u001b[39;49m, \u001b[39m2\u001b[39;49m), tag\u001b[39m=\u001b[39;49m\u001b[39m\"\u001b[39;49m\u001b[39mrectangle\u001b[39;49m\u001b[39m\"\u001b[39;49m)\n\u001b[0;32m     <a href='vscode-notebook-cell:/c%3A/Users/proje/Documents/GitHub/Bowser-attack/screenshots/tesseract_test.ipynb#W4sZmlsZQ%3D%3D?line=29'>30</a>\u001b[0m canvas\u001b[39m.\u001b[39mbind(\u001b[39m\"\u001b[39m\u001b[39m<ButtonPress-1>\u001b[39m\u001b[39m\"\u001b[39m, on_drag_start)\n\u001b[0;32m     <a href='vscode-notebook-cell:/c%3A/Users/proje/Documents/GitHub/Bowser-attack/screenshots/tesseract_test.ipynb#W4sZmlsZQ%3D%3D?line=30'>31</a>\u001b[0m canvas\u001b[39m.\u001b[39mbind(\u001b[39m\"\u001b[39m\u001b[39m<B1-Motion>\u001b[39m\u001b[39m\"\u001b[39m, on_drag_motion)\n",
      "File \u001b[1;32mc:\\Users\\proje\\anaconda3\\envs\\VerbalEnv2\\lib\\tkinter\\__init__.py:2835\u001b[0m, in \u001b[0;36mCanvas.create_rectangle\u001b[1;34m(self, *args, **kw)\u001b[0m\n\u001b[0;32m   2833\u001b[0m \u001b[39mdef\u001b[39;00m \u001b[39mcreate_rectangle\u001b[39m(\u001b[39mself\u001b[39m, \u001b[39m*\u001b[39margs, \u001b[39m*\u001b[39m\u001b[39m*\u001b[39mkw):\n\u001b[0;32m   2834\u001b[0m \u001b[39m    \u001b[39m\u001b[39m\"\"\"Create rectangle with coordinates x1,y1,x2,y2.\"\"\"\u001b[39;00m\n\u001b[1;32m-> 2835\u001b[0m     \u001b[39mreturn\u001b[39;00m \u001b[39mself\u001b[39;49m\u001b[39m.\u001b[39;49m_create(\u001b[39m'\u001b[39;49m\u001b[39mrectangle\u001b[39;49m\u001b[39m'\u001b[39;49m, args, kw)\n",
      "File \u001b[1;32mc:\\Users\\proje\\anaconda3\\envs\\VerbalEnv2\\lib\\tkinter\\__init__.py:2805\u001b[0m, in \u001b[0;36mCanvas._create\u001b[1;34m(self, itemType, args, kw)\u001b[0m\n\u001b[0;32m   2803\u001b[0m \u001b[39melse\u001b[39;00m:\n\u001b[0;32m   2804\u001b[0m     cnf \u001b[39m=\u001b[39m {}\n\u001b[1;32m-> 2805\u001b[0m \u001b[39mreturn\u001b[39;00m \u001b[39mself\u001b[39m\u001b[39m.\u001b[39mtk\u001b[39m.\u001b[39mgetint(\u001b[39mself\u001b[39;49m\u001b[39m.\u001b[39;49mtk\u001b[39m.\u001b[39;49mcall(\n\u001b[0;32m   2806\u001b[0m     \u001b[39mself\u001b[39;49m\u001b[39m.\u001b[39;49m_w, \u001b[39m'\u001b[39;49m\u001b[39mcreate\u001b[39;49m\u001b[39m'\u001b[39;49m, itemType,\n\u001b[0;32m   2807\u001b[0m     \u001b[39m*\u001b[39;49m(args \u001b[39m+\u001b[39;49m \u001b[39mself\u001b[39;49m\u001b[39m.\u001b[39;49m_options(cnf, kw))))\n",
      "\u001b[1;31mTclError\u001b[0m: unknown option \"-colour\""
     ]
    }
   ],
   "source": [
    "import tkinter as tk\n",
    "\n",
    "def on_drag_start(event):\n",
    "    canvas.coords(\"rectangle\", event.x, event.y, event.x, event.y)\n",
    "\n",
    "def on_drag_motion(event):\n",
    "    canvas.coords(\"rectangle\", canvas.coords(\"rectangle\")[0], canvas.coords(\"rectangle\")[1], event.x, event.y)\n",
    "\n",
    "def on_drag_release(event):\n",
    "    canvas.coords(\"rectangle\", canvas.coords(\"rectangle\")[0], canvas.coords(\"rectangle\")[1], event.x, event.y)\n",
    "    print(\"Rectangle coordinates:\", canvas.coords(\"rectangle\"))\n",
    "    root.destroy()  # Close the window after releasing the mouse\n",
    "\n",
    "root = tk.Tk()\n",
    "root.attributes('-fullscreen', True)  # Fullscreen window\n",
    "root.attributes('-topmost', True)  # Always on top\n",
    "root.attributes('-alpha', 0.3)  # Transparency (1.0: Opaque, <1.0: Transparent)\n",
    "\n",
    "# Remove window decorations\n",
    "root.overrideredirect(True)\n",
    "\n",
    "canvas = tk.Canvas(root, width=root.winfo_screenwidth(), height=root.winfo_screenheight(), bg='white')\n",
    "canvas.pack()\n",
    "\n",
    "\n",
    "# Create a rectangle with a bright red outline\n",
    "rect = canvas.create_rectangle(0, 0, 0, 0, outline='#ff0000', width=5, dash=(4, 2), tag=\"rectangle\")\n",
    "\n",
    "\n",
    "canvas.bind(\"<ButtonPress-1>\", on_drag_start)\n",
    "canvas.bind(\"<B1-Motion>\", on_drag_motion)\n",
    "canvas.bind(\"<ButtonRelease-1>\", on_drag_release)\n",
    "\n",
    "root.mainloop()\n"
   ]
  },
  {
   "cell_type": "code",
   "execution_count": 3,
   "metadata": {},
   "outputs": [
    {
     "name": "stdout",
     "output_type": "stream",
     "text": [
      "Rectangle coordinates: [19.0, 179.0, 1419.0, 598.0]\n"
     ]
    }
   ],
   "source": []
  },
  {
   "cell_type": "code",
   "execution_count": null,
   "metadata": {},
   "outputs": [],
   "source": []
  }
 ],
 "metadata": {
  "kernelspec": {
   "display_name": "VerbalEnv2",
   "language": "python",
   "name": "python3"
  },
  "language_info": {
   "codemirror_mode": {
    "name": "ipython",
    "version": 3
   },
   "file_extension": ".py",
   "mimetype": "text/x-python",
   "name": "python",
   "nbconvert_exporter": "python",
   "pygments_lexer": "ipython3",
   "version": "3.10.11"
  }
 },
 "nbformat": 4,
 "nbformat_minor": 2
}
