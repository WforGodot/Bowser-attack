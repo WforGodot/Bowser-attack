{
 "cells": [
  {
   "cell_type": "code",
   "execution_count": 13,
   "metadata": {},
   "outputs": [
    {
     "data": {
      "text/plain": [
       "True"
      ]
     },
     "execution_count": 13,
     "metadata": {},
     "output_type": "execute_result"
    }
   ],
   "source": [
    "from selenium import webdriver\n",
    "from selenium.webdriver.chrome.service import Service\n",
    "from webdriver_manager.chrome import ChromeDriverManager\n",
    "from selenium.webdriver.chrome.options import Options\n",
    "\n",
    "# Set up Chrome options\n",
    "chrome_options = Options()\n",
    "chrome_options.add_argument(\"--headless\")  # Run in headless mode, i.e., without a UI or display server dependencies\n",
    "chrome_options.add_argument(\"--disable-gpu\")  # Disable GPU hardware acceleration\n",
    "chrome_options.add_argument(\"--window-size=1920x1080\")  # Set window size to 1920x1080\n",
    "\n",
    "# Set up the Chrome WebDriver\n",
    "driver = webdriver.Chrome()\n",
    "\n",
    "# Go to the webpage\n",
    "driver.get(\"https://lichess.org/analysis\")\n",
    "\n",
    "# Take a screenshot and save it to the current directory\n",
    "driver.save_screenshot('lichess_analysis_screenshot.png')\n"
   ]
  },
  {
   "cell_type": "code",
   "execution_count": 19,
   "metadata": {},
   "outputs": [],
   "source": [
    "\n",
    "def find_chrome_tab_by_title(title):\n",
    "    \"\"\"Find a Chrome tab that contains the specified title.\"\"\"\n",
    "    def window_enum_callback(hwnd, tabs):\n",
    "        \"\"\"A callback function that checks each window.\"\"\"\n",
    "        if 'Chrome' in win32gui.GetClassName(hwnd) and win32gui.IsWindowVisible(hwnd):\n",
    "            window_title = win32gui.GetWindowText(hwnd)\n",
    "            if title in window_title:\n",
    "                tabs.append(hwnd)\n",
    "\n",
    "    tabs = []\n",
    "    win32gui.EnumWindows(window_enum_callback, tabs)\n",
    "    return tabs"
   ]
  },
  {
   "cell_type": "code",
   "execution_count": 20,
   "metadata": {},
   "outputs": [
    {
     "data": {
      "text/plain": [
       "[8325502]"
      ]
     },
     "execution_count": 20,
     "metadata": {},
     "output_type": "execute_result"
    }
   ],
   "source": [
    "from time import sleep\n",
    "sleep(5)\n",
    "title = get_active_window_title()\n",
    "find_chrome_tab_by_title(title)"
   ]
  },
  {
   "cell_type": "code",
   "execution_count": 15,
   "metadata": {},
   "outputs": [
    {
     "ename": "KeyboardInterrupt",
     "evalue": "",
     "output_type": "error",
     "traceback": [
      "\u001b[1;31m---------------------------------------------------------------------------\u001b[0m",
      "\u001b[1;31mKeyboardInterrupt\u001b[0m                         Traceback (most recent call last)",
      "\u001b[1;32mc:\\Users\\proje\\Documents\\GitHub\\Bowser-attack\\screenshot_test.ipynb Cell 2\u001b[0m line \u001b[0;36m6\n\u001b[0;32m      <a href='vscode-notebook-cell:/c%3A/Users/proje/Documents/GitHub/Bowser-attack/screenshot_test.ipynb#W2sZmlsZQ%3D%3D?line=2'>3</a>\u001b[0m \u001b[39mfrom\u001b[39;00m \u001b[39mwebdriver_manager\u001b[39;00m\u001b[39m.\u001b[39;00m\u001b[39mfirefox\u001b[39;00m \u001b[39mimport\u001b[39;00m GeckoDriverManager\n\u001b[0;32m      <a href='vscode-notebook-cell:/c%3A/Users/proje/Documents/GitHub/Bowser-attack/screenshot_test.ipynb#W2sZmlsZQ%3D%3D?line=4'>5</a>\u001b[0m \u001b[39m# Set up the Firefox WebDriver\u001b[39;00m\n\u001b[1;32m----> <a href='vscode-notebook-cell:/c%3A/Users/proje/Documents/GitHub/Bowser-attack/screenshot_test.ipynb#W2sZmlsZQ%3D%3D?line=5'>6</a>\u001b[0m driver \u001b[39m=\u001b[39m webdriver\u001b[39m.\u001b[39mFirefox(service\u001b[39m=\u001b[39mService(GeckoDriverManager()\u001b[39m.\u001b[39;49minstall()))\n\u001b[0;32m      <a href='vscode-notebook-cell:/c%3A/Users/proje/Documents/GitHub/Bowser-attack/screenshot_test.ipynb#W2sZmlsZQ%3D%3D?line=7'>8</a>\u001b[0m \u001b[39m# Your code to interact with the driver\u001b[39;00m\n\u001b[0;32m      <a href='vscode-notebook-cell:/c%3A/Users/proje/Documents/GitHub/Bowser-attack/screenshot_test.ipynb#W2sZmlsZQ%3D%3D?line=8'>9</a>\u001b[0m \u001b[39m# Go to the webpage\u001b[39;00m\n\u001b[0;32m     <a href='vscode-notebook-cell:/c%3A/Users/proje/Documents/GitHub/Bowser-attack/screenshot_test.ipynb#W2sZmlsZQ%3D%3D?line=9'>10</a>\u001b[0m driver\u001b[39m.\u001b[39mget(\u001b[39m\"\u001b[39m\u001b[39mhttps://lichess.org/analysis\u001b[39m\u001b[39m\"\u001b[39m)\n",
      "File \u001b[1;32mc:\\Users\\proje\\anaconda3\\envs\\VerbalEnv2\\lib\\site-packages\\webdriver_manager\\firefox.py:37\u001b[0m, in \u001b[0;36mGeckoDriverManager.install\u001b[1;34m(self)\u001b[0m\n\u001b[0;32m     36\u001b[0m \u001b[39mdef\u001b[39;00m \u001b[39minstall\u001b[39m(\u001b[39mself\u001b[39m) \u001b[39m-\u001b[39m\u001b[39m>\u001b[39m \u001b[39mstr\u001b[39m:\n\u001b[1;32m---> 37\u001b[0m     driver_path \u001b[39m=\u001b[39m \u001b[39mself\u001b[39;49m\u001b[39m.\u001b[39;49m_get_driver_path(\u001b[39mself\u001b[39;49m\u001b[39m.\u001b[39;49mdriver)\n\u001b[0;32m     38\u001b[0m     os\u001b[39m.\u001b[39mchmod(driver_path, \u001b[39m0o755\u001b[39m)\n\u001b[0;32m     39\u001b[0m     \u001b[39mreturn\u001b[39;00m driver_path\n",
      "File \u001b[1;32mc:\\Users\\proje\\anaconda3\\envs\\VerbalEnv2\\lib\\site-packages\\webdriver_manager\\core\\manager.py:26\u001b[0m, in \u001b[0;36mDriverManager._get_driver_path\u001b[1;34m(self, driver)\u001b[0m\n\u001b[0;32m     25\u001b[0m \u001b[39mdef\u001b[39;00m \u001b[39m_get_driver_path\u001b[39m(\u001b[39mself\u001b[39m, driver):\n\u001b[1;32m---> 26\u001b[0m     binary_path \u001b[39m=\u001b[39m \u001b[39mself\u001b[39;49m\u001b[39m.\u001b[39;49mdriver_cache\u001b[39m.\u001b[39;49mfind_driver(driver)\n\u001b[0;32m     27\u001b[0m     \u001b[39mif\u001b[39;00m binary_path:\n\u001b[0;32m     28\u001b[0m         \u001b[39mreturn\u001b[39;00m binary_path\n",
      "File \u001b[1;32mc:\\Users\\proje\\anaconda3\\envs\\VerbalEnv2\\lib\\site-packages\\webdriver_manager\\core\\driver_cache.py:79\u001b[0m, in \u001b[0;36mDriverCache.find_driver\u001b[1;34m(self, driver)\u001b[0m\n\u001b[0;32m     77\u001b[0m os_type \u001b[39m=\u001b[39m driver\u001b[39m.\u001b[39mget_os_type()\n\u001b[0;32m     78\u001b[0m driver_name \u001b[39m=\u001b[39m driver\u001b[39m.\u001b[39mget_name()\n\u001b[1;32m---> 79\u001b[0m browser_version \u001b[39m=\u001b[39m driver\u001b[39m.\u001b[39;49mget_browser_version_from_os()\n\u001b[0;32m     80\u001b[0m driver_version \u001b[39m=\u001b[39m \u001b[39mself\u001b[39m\u001b[39m.\u001b[39mget_cache_key_driver_version(driver)\n\u001b[0;32m     81\u001b[0m browser_type \u001b[39m=\u001b[39m driver\u001b[39m.\u001b[39mget_browser_type()\n",
      "File \u001b[1;32mc:\\Users\\proje\\anaconda3\\envs\\VerbalEnv2\\lib\\site-packages\\webdriver_manager\\core\\driver.py:67\u001b[0m, in \u001b[0;36mDriver.get_browser_version_from_os\u001b[1;34m(self)\u001b[0m\n\u001b[0;32m     59\u001b[0m \u001b[39m\u001b[39m\u001b[39m\"\"\"\u001b[39;00m\n\u001b[0;32m     60\u001b[0m \u001b[39mUse-cases:\u001b[39;00m\n\u001b[0;32m     61\u001b[0m \u001b[39m- for key in metadata;\u001b[39;00m\n\u001b[1;32m   (...)\u001b[0m\n\u001b[0;32m     64\u001b[0m \u001b[39mNote: the fallback may have collisions in user cases when previous browser was not uninstalled properly.\u001b[39;00m\n\u001b[0;32m     65\u001b[0m \u001b[39m\"\"\"\u001b[39;00m\n\u001b[0;32m     66\u001b[0m \u001b[39mif\u001b[39;00m \u001b[39mself\u001b[39m\u001b[39m.\u001b[39m_browser_version \u001b[39mis\u001b[39;00m \u001b[39mNone\u001b[39;00m:\n\u001b[1;32m---> 67\u001b[0m     \u001b[39mself\u001b[39m\u001b[39m.\u001b[39m_browser_version \u001b[39m=\u001b[39m get_browser_version_from_os(\u001b[39mself\u001b[39;49m\u001b[39m.\u001b[39;49mget_browser_type())\n\u001b[0;32m     68\u001b[0m \u001b[39mreturn\u001b[39;00m \u001b[39mself\u001b[39m\u001b[39m.\u001b[39m_browser_version\n",
      "File \u001b[1;32mc:\\Users\\proje\\anaconda3\\envs\\VerbalEnv2\\lib\\site-packages\\webdriver_manager\\core\\utils.py:212\u001b[0m, in \u001b[0;36mget_browser_version_from_os\u001b[1;34m(browser_type)\u001b[0m\n\u001b[0;32m    132\u001b[0m \u001b[39mdef\u001b[39;00m \u001b[39mget_browser_version_from_os\u001b[39m(browser_type\u001b[39m=\u001b[39m\u001b[39mNone\u001b[39;00m):\n\u001b[0;32m    133\u001b[0m \u001b[39m    \u001b[39m\u001b[39m\"\"\"Return installed browser version.\"\"\"\u001b[39;00m\n\u001b[0;32m    134\u001b[0m     cmd_mapping \u001b[39m=\u001b[39m {\n\u001b[0;32m    135\u001b[0m         ChromeType\u001b[39m.\u001b[39mGOOGLE: {\n\u001b[0;32m    136\u001b[0m             OSType\u001b[39m.\u001b[39mLINUX: linux_browser_apps_to_cmd(\n\u001b[0;32m    137\u001b[0m                 \u001b[39m\"\u001b[39m\u001b[39mgoogle-chrome\u001b[39m\u001b[39m\"\u001b[39m,\n\u001b[0;32m    138\u001b[0m                 \u001b[39m\"\u001b[39m\u001b[39mgoogle-chrome-stable\u001b[39m\u001b[39m\"\u001b[39m,\n\u001b[0;32m    139\u001b[0m                 \u001b[39m\"\u001b[39m\u001b[39mgoogle-chrome-beta\u001b[39m\u001b[39m\"\u001b[39m,\n\u001b[0;32m    140\u001b[0m                 \u001b[39m\"\u001b[39m\u001b[39mgoogle-chrome-dev\u001b[39m\u001b[39m\"\u001b[39m,\n\u001b[0;32m    141\u001b[0m             ),\n\u001b[0;32m    142\u001b[0m             OSType\u001b[39m.\u001b[39mMAC: \u001b[39mr\u001b[39m\u001b[39m\"\u001b[39m\u001b[39m/Applications/Google\u001b[39m\u001b[39m\\\u001b[39m\u001b[39m Chrome.app/Contents/MacOS/Google\u001b[39m\u001b[39m\\\u001b[39m\u001b[39m Chrome --version\u001b[39m\u001b[39m\"\u001b[39m,\n\u001b[0;32m    143\u001b[0m             OSType\u001b[39m.\u001b[39mWIN: windows_browser_apps_to_cmd(\n\u001b[0;32m    144\u001b[0m                 \u001b[39mr\u001b[39m\u001b[39m'\u001b[39m\u001b[39m(Get-Item -Path \u001b[39m\u001b[39m\"\u001b[39m\u001b[39m$env:PROGRAMFILES\u001b[39m\u001b[39m\\\u001b[39m\u001b[39mGoogle\u001b[39m\u001b[39m\\\u001b[39m\u001b[39mChrome\u001b[39m\u001b[39m\\\u001b[39m\u001b[39mApplication\u001b[39m\u001b[39m\\\u001b[39m\u001b[39mchrome.exe\u001b[39m\u001b[39m\"\u001b[39m\u001b[39m).VersionInfo.FileVersion\u001b[39m\u001b[39m'\u001b[39m,\n\u001b[0;32m    145\u001b[0m                 \u001b[39mr\u001b[39m\u001b[39m'\u001b[39m\u001b[39m(Get-Item -Path \u001b[39m\u001b[39m\"\u001b[39m\u001b[39m$env:PROGRAMFILES (x86)\u001b[39m\u001b[39m\\\u001b[39m\u001b[39mGoogle\u001b[39m\u001b[39m\\\u001b[39m\u001b[39mChrome\u001b[39m\u001b[39m\\\u001b[39m\u001b[39mApplication\u001b[39m\u001b[39m\\\u001b[39m\u001b[39mchrome.exe\u001b[39m\u001b[39m\"\u001b[39m\u001b[39m).VersionInfo.FileVersion\u001b[39m\u001b[39m'\u001b[39m,\n\u001b[0;32m    146\u001b[0m                 \u001b[39mr\u001b[39m\u001b[39m'\u001b[39m\u001b[39m(Get-Item -Path \u001b[39m\u001b[39m\"\u001b[39m\u001b[39m$env:LOCALAPPDATA\u001b[39m\u001b[39m\\\u001b[39m\u001b[39mGoogle\u001b[39m\u001b[39m\\\u001b[39m\u001b[39mChrome\u001b[39m\u001b[39m\\\u001b[39m\u001b[39mApplication\u001b[39m\u001b[39m\\\u001b[39m\u001b[39mchrome.exe\u001b[39m\u001b[39m\"\u001b[39m\u001b[39m).VersionInfo.FileVersion\u001b[39m\u001b[39m'\u001b[39m,\n\u001b[0;32m    147\u001b[0m                 \u001b[39mr\u001b[39m\u001b[39m'\u001b[39m\u001b[39m(Get-ItemProperty -Path Registry::\u001b[39m\u001b[39m\"\u001b[39m\u001b[39mHKCU\u001b[39m\u001b[39m\\\u001b[39m\u001b[39mSOFTWARE\u001b[39m\u001b[39m\\\u001b[39m\u001b[39mGoogle\u001b[39m\u001b[39m\\\u001b[39m\u001b[39mChrome\u001b[39m\u001b[39m\\\u001b[39m\u001b[39mBLBeacon\u001b[39m\u001b[39m\"\u001b[39m\u001b[39m).version\u001b[39m\u001b[39m'\u001b[39m,\n\u001b[0;32m    148\u001b[0m                 \u001b[39mr\u001b[39m\u001b[39m'\u001b[39m\u001b[39m(Get-ItemProperty -Path Registry::\u001b[39m\u001b[39m\"\u001b[39m\u001b[39mHKLM\u001b[39m\u001b[39m\\\u001b[39m\u001b[39mSOFTWARE\u001b[39m\u001b[39m\\\u001b[39m\u001b[39mWow6432Node\u001b[39m\u001b[39m\\\u001b[39m\u001b[39mMicrosoft\u001b[39m\u001b[39m\\\u001b[39m\u001b[39mWindows\u001b[39m\u001b[39m\\\u001b[39m\u001b[39mCurrentVersion\u001b[39m\u001b[39m\\\u001b[39m\u001b[39mUninstall\u001b[39m\u001b[39m\\\u001b[39m\u001b[39mGoogle Chrome\u001b[39m\u001b[39m\"\u001b[39m\u001b[39m).version\u001b[39m\u001b[39m'\u001b[39m,\n\u001b[0;32m    149\u001b[0m             ),\n\u001b[0;32m    150\u001b[0m         },\n\u001b[0;32m    151\u001b[0m         ChromeType\u001b[39m.\u001b[39mCHROMIUM: {\n\u001b[0;32m    152\u001b[0m             OSType\u001b[39m.\u001b[39mLINUX: linux_browser_apps_to_cmd(\u001b[39m\"\u001b[39m\u001b[39mchromium\u001b[39m\u001b[39m\"\u001b[39m, \u001b[39m\"\u001b[39m\u001b[39mchromium-browser\u001b[39m\u001b[39m\"\u001b[39m),\n\u001b[0;32m    153\u001b[0m             OSType\u001b[39m.\u001b[39mMAC: \u001b[39mr\u001b[39m\u001b[39m\"\u001b[39m\u001b[39m/Applications/Chromium.app/Contents/MacOS/Chromium --version\u001b[39m\u001b[39m\"\u001b[39m,\n\u001b[0;32m    154\u001b[0m             OSType\u001b[39m.\u001b[39mWIN: windows_browser_apps_to_cmd(\n\u001b[0;32m    155\u001b[0m                 \u001b[39mr\u001b[39m\u001b[39m'\u001b[39m\u001b[39m(Get-Item -Path \u001b[39m\u001b[39m\"\u001b[39m\u001b[39m$env:PROGRAMFILES\u001b[39m\u001b[39m\\\u001b[39m\u001b[39mChromium\u001b[39m\u001b[39m\\\u001b[39m\u001b[39mApplication\u001b[39m\u001b[39m\\\u001b[39m\u001b[39mchrome.exe\u001b[39m\u001b[39m\"\u001b[39m\u001b[39m).VersionInfo.FileVersion\u001b[39m\u001b[39m'\u001b[39m,\n\u001b[0;32m    156\u001b[0m                 \u001b[39mr\u001b[39m\u001b[39m'\u001b[39m\u001b[39m(Get-Item -Path \u001b[39m\u001b[39m\"\u001b[39m\u001b[39m$env:PROGRAMFILES (x86)\u001b[39m\u001b[39m\\\u001b[39m\u001b[39mChromium\u001b[39m\u001b[39m\\\u001b[39m\u001b[39mApplication\u001b[39m\u001b[39m\\\u001b[39m\u001b[39mchrome.exe\u001b[39m\u001b[39m\"\u001b[39m\u001b[39m).VersionInfo.FileVersion\u001b[39m\u001b[39m'\u001b[39m,\n\u001b[0;32m    157\u001b[0m                 \u001b[39mr\u001b[39m\u001b[39m'\u001b[39m\u001b[39m(Get-Item -Path \u001b[39m\u001b[39m\"\u001b[39m\u001b[39m$env:LOCALAPPDATA\u001b[39m\u001b[39m\\\u001b[39m\u001b[39mChromium\u001b[39m\u001b[39m\\\u001b[39m\u001b[39mApplication\u001b[39m\u001b[39m\\\u001b[39m\u001b[39mchrome.exe\u001b[39m\u001b[39m\"\u001b[39m\u001b[39m).VersionInfo.FileVersion\u001b[39m\u001b[39m'\u001b[39m,\n\u001b[0;32m    158\u001b[0m                 \u001b[39mr\u001b[39m\u001b[39m'\u001b[39m\u001b[39m(Get-ItemProperty -Path Registry::\u001b[39m\u001b[39m\"\u001b[39m\u001b[39mHKCU\u001b[39m\u001b[39m\\\u001b[39m\u001b[39mSOFTWARE\u001b[39m\u001b[39m\\\u001b[39m\u001b[39mChromium\u001b[39m\u001b[39m\\\u001b[39m\u001b[39mBLBeacon\u001b[39m\u001b[39m\"\u001b[39m\u001b[39m).version\u001b[39m\u001b[39m'\u001b[39m,\n\u001b[0;32m    159\u001b[0m                 \u001b[39mr\u001b[39m\u001b[39m'\u001b[39m\u001b[39m(Get-ItemProperty -Path Registry::\u001b[39m\u001b[39m\"\u001b[39m\u001b[39mHKLM\u001b[39m\u001b[39m\\\u001b[39m\u001b[39mSOFTWARE\u001b[39m\u001b[39m\\\u001b[39m\u001b[39mWow6432Node\u001b[39m\u001b[39m\\\u001b[39m\u001b[39mMicrosoft\u001b[39m\u001b[39m\\\u001b[39m\u001b[39mWindows\u001b[39m\u001b[39m\\\u001b[39m\u001b[39mCurrentVersion\u001b[39m\u001b[39m\\\u001b[39m\u001b[39mUninstall\u001b[39m\u001b[39m\\\u001b[39m\u001b[39mChromium\u001b[39m\u001b[39m\"\u001b[39m\u001b[39m).version\u001b[39m\u001b[39m'\u001b[39m,\n\u001b[0;32m    160\u001b[0m             ),\n\u001b[0;32m    161\u001b[0m         },\n\u001b[0;32m    162\u001b[0m         ChromeType\u001b[39m.\u001b[39mBRAVE: {\n\u001b[0;32m    163\u001b[0m             OSType\u001b[39m.\u001b[39mLINUX: linux_browser_apps_to_cmd(\n\u001b[0;32m    164\u001b[0m                 \u001b[39m\"\u001b[39m\u001b[39mbrave-browser\u001b[39m\u001b[39m\"\u001b[39m, \u001b[39m\"\u001b[39m\u001b[39mbrave-browser-beta\u001b[39m\u001b[39m\"\u001b[39m, \u001b[39m\"\u001b[39m\u001b[39mbrave-browser-nightly\u001b[39m\u001b[39m\"\u001b[39m\n\u001b[0;32m    165\u001b[0m             ),\n\u001b[0;32m    166\u001b[0m             OSType\u001b[39m.\u001b[39mMAC: \u001b[39mr\u001b[39m\u001b[39m\"\u001b[39m\u001b[39m/Applications/Brave\u001b[39m\u001b[39m\\\u001b[39m\u001b[39m Browser.app/Contents/MacOS/Brave\u001b[39m\u001b[39m\\\u001b[39m\u001b[39m Browser --version\u001b[39m\u001b[39m\"\u001b[39m,\n\u001b[0;32m    167\u001b[0m             OSType\u001b[39m.\u001b[39mWIN: windows_browser_apps_to_cmd(\n\u001b[0;32m    168\u001b[0m                 \u001b[39mr\u001b[39m\u001b[39m'\u001b[39m\u001b[39m(Get-Item -Path \u001b[39m\u001b[39m\"\u001b[39m\u001b[39m$env:PROGRAMFILES\u001b[39m\u001b[39m\\\u001b[39m\u001b[39mBraveSoftware\u001b[39m\u001b[39m\\\u001b[39m\u001b[39mBrave-Browser\u001b[39m\u001b[39m\\\u001b[39m\u001b[39mApplication\u001b[39m\u001b[39m\\\u001b[39m\u001b[39mbrave.exe\u001b[39m\u001b[39m\"\u001b[39m\u001b[39m).VersionInfo.FileVersion\u001b[39m\u001b[39m'\u001b[39m,\n\u001b[0;32m    169\u001b[0m                 \u001b[39mr\u001b[39m\u001b[39m'\u001b[39m\u001b[39m(Get-Item -Path \u001b[39m\u001b[39m\"\u001b[39m\u001b[39m$env:PROGRAMFILES (x86)\u001b[39m\u001b[39m\\\u001b[39m\u001b[39mBraveSoftware\u001b[39m\u001b[39m\\\u001b[39m\u001b[39mBrave-Browser\u001b[39m\u001b[39m\\\u001b[39m\u001b[39mApplication\u001b[39m\u001b[39m\\\u001b[39m\u001b[39mbrave.exe\u001b[39m\u001b[39m\"\u001b[39m\u001b[39m).VersionInfo.FileVersion\u001b[39m\u001b[39m'\u001b[39m,\n\u001b[0;32m    170\u001b[0m                 \u001b[39mr\u001b[39m\u001b[39m'\u001b[39m\u001b[39m(Get-Item -Path \u001b[39m\u001b[39m\"\u001b[39m\u001b[39m$env:LOCALAPPDATA\u001b[39m\u001b[39m\\\u001b[39m\u001b[39mBraveSoftware\u001b[39m\u001b[39m\\\u001b[39m\u001b[39mBrave-Browser\u001b[39m\u001b[39m\\\u001b[39m\u001b[39mApplication\u001b[39m\u001b[39m\\\u001b[39m\u001b[39mbrave.exe\u001b[39m\u001b[39m\"\u001b[39m\u001b[39m).VersionInfo.FileVersion\u001b[39m\u001b[39m'\u001b[39m,\n\u001b[0;32m    171\u001b[0m                 \u001b[39mr\u001b[39m\u001b[39m'\u001b[39m\u001b[39m(Get-ItemProperty -Path Registry::\u001b[39m\u001b[39m\"\u001b[39m\u001b[39mHKCU\u001b[39m\u001b[39m\\\u001b[39m\u001b[39mSOFTWARE\u001b[39m\u001b[39m\\\u001b[39m\u001b[39mBraveSoftware\u001b[39m\u001b[39m\\\u001b[39m\u001b[39mBrave-Browser\u001b[39m\u001b[39m\\\u001b[39m\u001b[39mBLBeacon\u001b[39m\u001b[39m\"\u001b[39m\u001b[39m).version\u001b[39m\u001b[39m'\u001b[39m,\n\u001b[0;32m    172\u001b[0m                 \u001b[39mr\u001b[39m\u001b[39m'\u001b[39m\u001b[39m(Get-ItemProperty -Path Registry::\u001b[39m\u001b[39m\"\u001b[39m\u001b[39mHKLM\u001b[39m\u001b[39m\\\u001b[39m\u001b[39mSOFTWARE\u001b[39m\u001b[39m\\\u001b[39m\u001b[39mWow6432Node\u001b[39m\u001b[39m\\\u001b[39m\u001b[39mMicrosoft\u001b[39m\u001b[39m\\\u001b[39m\u001b[39mWindows\u001b[39m\u001b[39m\\\u001b[39m\u001b[39mCurrentVersion\u001b[39m\u001b[39m\\\u001b[39m\u001b[39mUninstall\u001b[39m\u001b[39m\\\u001b[39m\u001b[39mBraveSoftware Brave-Browser\u001b[39m\u001b[39m\"\u001b[39m\u001b[39m).version\u001b[39m\u001b[39m'\u001b[39m,\n\u001b[0;32m    173\u001b[0m             ),\n\u001b[0;32m    174\u001b[0m         },\n\u001b[0;32m    175\u001b[0m         ChromeType\u001b[39m.\u001b[39mMSEDGE: {\n\u001b[0;32m    176\u001b[0m             OSType\u001b[39m.\u001b[39mLINUX: linux_browser_apps_to_cmd(\n\u001b[0;32m    177\u001b[0m                 \u001b[39m\"\u001b[39m\u001b[39mmicrosoft-edge\u001b[39m\u001b[39m\"\u001b[39m,\n\u001b[0;32m    178\u001b[0m                 \u001b[39m\"\u001b[39m\u001b[39mmicrosoft-edge-stable\u001b[39m\u001b[39m\"\u001b[39m,\n\u001b[0;32m    179\u001b[0m                 \u001b[39m\"\u001b[39m\u001b[39mmicrosoft-edge-beta\u001b[39m\u001b[39m\"\u001b[39m,\n\u001b[0;32m    180\u001b[0m                 \u001b[39m\"\u001b[39m\u001b[39mmicrosoft-edge-dev\u001b[39m\u001b[39m\"\u001b[39m,\n\u001b[0;32m    181\u001b[0m             ),\n\u001b[0;32m    182\u001b[0m             OSType\u001b[39m.\u001b[39mMAC: \u001b[39mr\u001b[39m\u001b[39m\"\u001b[39m\u001b[39m/Applications/Microsoft\u001b[39m\u001b[39m\\\u001b[39m\u001b[39m Edge.app/Contents/MacOS/Microsoft\u001b[39m\u001b[39m\\\u001b[39m\u001b[39m Edge --version\u001b[39m\u001b[39m\"\u001b[39m,\n\u001b[0;32m    183\u001b[0m             OSType\u001b[39m.\u001b[39mWIN: windows_browser_apps_to_cmd(\n\u001b[0;32m    184\u001b[0m                 \u001b[39m# stable edge\u001b[39;00m\n\u001b[0;32m    185\u001b[0m                 \u001b[39mr\u001b[39m\u001b[39m'\u001b[39m\u001b[39m(Get-Item -Path \u001b[39m\u001b[39m\"\u001b[39m\u001b[39m$env:PROGRAMFILES\u001b[39m\u001b[39m\\\u001b[39m\u001b[39mMicrosoft\u001b[39m\u001b[39m\\\u001b[39m\u001b[39mEdge\u001b[39m\u001b[39m\\\u001b[39m\u001b[39mApplication\u001b[39m\u001b[39m\\\u001b[39m\u001b[39mmsedge.exe\u001b[39m\u001b[39m\"\u001b[39m\u001b[39m).VersionInfo.FileVersion\u001b[39m\u001b[39m'\u001b[39m,\n\u001b[0;32m    186\u001b[0m                 \u001b[39mr\u001b[39m\u001b[39m'\u001b[39m\u001b[39m(Get-Item -Path \u001b[39m\u001b[39m\"\u001b[39m\u001b[39m$env:PROGRAMFILES (x86)\u001b[39m\u001b[39m\\\u001b[39m\u001b[39mMicrosoft\u001b[39m\u001b[39m\\\u001b[39m\u001b[39mEdge\u001b[39m\u001b[39m\\\u001b[39m\u001b[39mApplication\u001b[39m\u001b[39m\\\u001b[39m\u001b[39mmsedge.exe\u001b[39m\u001b[39m\"\u001b[39m\u001b[39m).VersionInfo.FileVersion\u001b[39m\u001b[39m'\u001b[39m,\n\u001b[0;32m    187\u001b[0m                 \u001b[39mr\u001b[39m\u001b[39m'\u001b[39m\u001b[39m(Get-ItemProperty -Path Registry::\u001b[39m\u001b[39m\"\u001b[39m\u001b[39mHKCU\u001b[39m\u001b[39m\\\u001b[39m\u001b[39mSOFTWARE\u001b[39m\u001b[39m\\\u001b[39m\u001b[39mMicrosoft\u001b[39m\u001b[39m\\\u001b[39m\u001b[39mEdge\u001b[39m\u001b[39m\\\u001b[39m\u001b[39mBLBeacon\u001b[39m\u001b[39m\"\u001b[39m\u001b[39m).version\u001b[39m\u001b[39m'\u001b[39m,\n\u001b[0;32m    188\u001b[0m                 \u001b[39mr\u001b[39m\u001b[39m'\u001b[39m\u001b[39m(Get-ItemProperty -Path Registry::\u001b[39m\u001b[39m\"\u001b[39m\u001b[39mHKLM\u001b[39m\u001b[39m\\\u001b[39m\u001b[39mSOFTWARE\u001b[39m\u001b[39m\\\u001b[39m\u001b[39mMicrosoft\u001b[39m\u001b[39m\\\u001b[39m\u001b[39mEdgeUpdate\u001b[39m\u001b[39m\\\u001b[39m\u001b[39mClients\u001b[39m\u001b[39m\\\u001b[39m\u001b[39m{\u001b[39m\u001b[39m56EB18F8-8008-4CBD-B6D2-8C97FE7E9062}\u001b[39m\u001b[39m\"\u001b[39m\u001b[39m).pv\u001b[39m\u001b[39m'\u001b[39m,\n\u001b[0;32m    189\u001b[0m                 \u001b[39m# beta edge\u001b[39;00m\n\u001b[0;32m    190\u001b[0m                 \u001b[39mr\u001b[39m\u001b[39m'\u001b[39m\u001b[39m(Get-Item -Path \u001b[39m\u001b[39m\"\u001b[39m\u001b[39m$env:LOCALAPPDATA\u001b[39m\u001b[39m\\\u001b[39m\u001b[39mMicrosoft\u001b[39m\u001b[39m\\\u001b[39m\u001b[39mEdge Beta\u001b[39m\u001b[39m\\\u001b[39m\u001b[39mApplication\u001b[39m\u001b[39m\\\u001b[39m\u001b[39mmsedge.exe\u001b[39m\u001b[39m\"\u001b[39m\u001b[39m).VersionInfo.FileVersion\u001b[39m\u001b[39m'\u001b[39m,\n\u001b[0;32m    191\u001b[0m                 \u001b[39mr\u001b[39m\u001b[39m'\u001b[39m\u001b[39m(Get-Item -Path \u001b[39m\u001b[39m\"\u001b[39m\u001b[39m$env:PROGRAMFILES\u001b[39m\u001b[39m\\\u001b[39m\u001b[39mMicrosoft\u001b[39m\u001b[39m\\\u001b[39m\u001b[39mEdge Beta\u001b[39m\u001b[39m\\\u001b[39m\u001b[39mApplication\u001b[39m\u001b[39m\\\u001b[39m\u001b[39mmsedge.exe\u001b[39m\u001b[39m\"\u001b[39m\u001b[39m).VersionInfo.FileVersion\u001b[39m\u001b[39m'\u001b[39m,\n\u001b[0;32m    192\u001b[0m                 \u001b[39mr\u001b[39m\u001b[39m'\u001b[39m\u001b[39m(Get-Item -Path \u001b[39m\u001b[39m\"\u001b[39m\u001b[39m$env:PROGRAMFILES (x86)\u001b[39m\u001b[39m\\\u001b[39m\u001b[39mMicrosoft\u001b[39m\u001b[39m\\\u001b[39m\u001b[39mEdge Beta\u001b[39m\u001b[39m\\\u001b[39m\u001b[39mApplication\u001b[39m\u001b[39m\\\u001b[39m\u001b[39mmsedge.exe\u001b[39m\u001b[39m\"\u001b[39m\u001b[39m).VersionInfo.FileVersion\u001b[39m\u001b[39m'\u001b[39m,\n\u001b[0;32m    193\u001b[0m                 \u001b[39mr\u001b[39m\u001b[39m'\u001b[39m\u001b[39m(Get-ItemProperty -Path Registry::\u001b[39m\u001b[39m\"\u001b[39m\u001b[39mHKCU\u001b[39m\u001b[39m\\\u001b[39m\u001b[39mSOFTWARE\u001b[39m\u001b[39m\\\u001b[39m\u001b[39mMicrosoft\u001b[39m\u001b[39m\\\u001b[39m\u001b[39mEdge Beta\u001b[39m\u001b[39m\\\u001b[39m\u001b[39mBLBeacon\u001b[39m\u001b[39m\"\u001b[39m\u001b[39m).version\u001b[39m\u001b[39m'\u001b[39m,\n\u001b[0;32m    194\u001b[0m                 \u001b[39m# dev edge\u001b[39;00m\n\u001b[0;32m    195\u001b[0m                 \u001b[39mr\u001b[39m\u001b[39m'\u001b[39m\u001b[39m(Get-Item -Path \u001b[39m\u001b[39m\"\u001b[39m\u001b[39m$env:LOCALAPPDATA\u001b[39m\u001b[39m\\\u001b[39m\u001b[39mMicrosoft\u001b[39m\u001b[39m\\\u001b[39m\u001b[39mEdge Dev\u001b[39m\u001b[39m\\\u001b[39m\u001b[39mApplication\u001b[39m\u001b[39m\\\u001b[39m\u001b[39mmsedge.exe\u001b[39m\u001b[39m\"\u001b[39m\u001b[39m).VersionInfo.FileVersion\u001b[39m\u001b[39m'\u001b[39m,\n\u001b[0;32m    196\u001b[0m                 \u001b[39mr\u001b[39m\u001b[39m'\u001b[39m\u001b[39m(Get-Item -Path \u001b[39m\u001b[39m\"\u001b[39m\u001b[39m$env:PROGRAMFILES\u001b[39m\u001b[39m\\\u001b[39m\u001b[39mMicrosoft\u001b[39m\u001b[39m\\\u001b[39m\u001b[39mEdge Dev\u001b[39m\u001b[39m\\\u001b[39m\u001b[39mApplication\u001b[39m\u001b[39m\\\u001b[39m\u001b[39mmsedge.exe\u001b[39m\u001b[39m\"\u001b[39m\u001b[39m).VersionInfo.FileVersion\u001b[39m\u001b[39m'\u001b[39m,\n\u001b[0;32m    197\u001b[0m                 \u001b[39mr\u001b[39m\u001b[39m'\u001b[39m\u001b[39m(Get-Item -Path \u001b[39m\u001b[39m\"\u001b[39m\u001b[39m$env:PROGRAMFILES (x86)\u001b[39m\u001b[39m\\\u001b[39m\u001b[39mMicrosoft\u001b[39m\u001b[39m\\\u001b[39m\u001b[39mEdge Dev\u001b[39m\u001b[39m\\\u001b[39m\u001b[39mApplication\u001b[39m\u001b[39m\\\u001b[39m\u001b[39mmsedge.exe\u001b[39m\u001b[39m\"\u001b[39m\u001b[39m).VersionInfo.FileVersion\u001b[39m\u001b[39m'\u001b[39m,\n\u001b[0;32m    198\u001b[0m                 \u001b[39mr\u001b[39m\u001b[39m'\u001b[39m\u001b[39m(Get-ItemProperty -Path Registry::\u001b[39m\u001b[39m\"\u001b[39m\u001b[39mHKCU\u001b[39m\u001b[39m\\\u001b[39m\u001b[39mSOFTWARE\u001b[39m\u001b[39m\\\u001b[39m\u001b[39mMicrosoft\u001b[39m\u001b[39m\\\u001b[39m\u001b[39mEdge Dev\u001b[39m\u001b[39m\\\u001b[39m\u001b[39mBLBeacon\u001b[39m\u001b[39m\"\u001b[39m\u001b[39m).version\u001b[39m\u001b[39m'\u001b[39m,\n\u001b[0;32m    199\u001b[0m                 \u001b[39m# canary edge\u001b[39;00m\n\u001b[0;32m    200\u001b[0m                 \u001b[39mr\u001b[39m\u001b[39m'\u001b[39m\u001b[39m(Get-Item -Path \u001b[39m\u001b[39m\"\u001b[39m\u001b[39m$env:LOCALAPPDATA\u001b[39m\u001b[39m\\\u001b[39m\u001b[39mMicrosoft\u001b[39m\u001b[39m\\\u001b[39m\u001b[39mEdge SxS\u001b[39m\u001b[39m\\\u001b[39m\u001b[39mApplication\u001b[39m\u001b[39m\\\u001b[39m\u001b[39mmsedge.exe\u001b[39m\u001b[39m\"\u001b[39m\u001b[39m).VersionInfo.FileVersion\u001b[39m\u001b[39m'\u001b[39m,\n\u001b[0;32m    201\u001b[0m                 \u001b[39mr\u001b[39m\u001b[39m'\u001b[39m\u001b[39m(Get-ItemProperty -Path Registry::\u001b[39m\u001b[39m\"\u001b[39m\u001b[39mHKCU\u001b[39m\u001b[39m\\\u001b[39m\u001b[39mSOFTWARE\u001b[39m\u001b[39m\\\u001b[39m\u001b[39mMicrosoft\u001b[39m\u001b[39m\\\u001b[39m\u001b[39mEdge SxS\u001b[39m\u001b[39m\\\u001b[39m\u001b[39mBLBeacon\u001b[39m\u001b[39m\"\u001b[39m\u001b[39m).version\u001b[39m\u001b[39m'\u001b[39m,\n\u001b[0;32m    202\u001b[0m                 \u001b[39m# highest edge\u001b[39;00m\n\u001b[0;32m    203\u001b[0m                 \u001b[39mr\u001b[39m\u001b[39m\"\u001b[39m\u001b[39m(Get-Item (Get-ItemProperty \u001b[39m\u001b[39m'\u001b[39m\u001b[39mHKLM:\u001b[39m\u001b[39m\\\u001b[39m\u001b[39mSOFTWARE\u001b[39m\u001b[39m\\\u001b[39m\u001b[39mMicrosoft\u001b[39m\u001b[39m\\\u001b[39m\u001b[39mWindows\u001b[39m\u001b[39m\\\u001b[39m\u001b[39mCurrentVersion\u001b[39m\u001b[39m\\\u001b[39m\u001b[39mApp Paths\u001b[39m\u001b[39m\\\u001b[39m\u001b[39mmsedge.exe\u001b[39m\u001b[39m'\u001b[39m\u001b[39m).\u001b[39m\u001b[39m'\u001b[39m\u001b[39m(Default)\u001b[39m\u001b[39m'\u001b[39m\u001b[39m).VersionInfo.ProductVersion\u001b[39m\u001b[39m\"\u001b[39m,\n\u001b[0;32m    204\u001b[0m                 \u001b[39mr\u001b[39m\u001b[39m\"\u001b[39m\u001b[39m[System.Diagnostics.FileVersionInfo]::GetVersionInfo((Get-ItemProperty \u001b[39m\u001b[39m'\u001b[39m\u001b[39mHKLM:\u001b[39m\u001b[39m\\\u001b[39m\u001b[39mSOFTWARE\u001b[39m\u001b[39m\\\u001b[39m\u001b[39mMicrosoft\u001b[39m\u001b[39m\\\u001b[39m\u001b[39mWindows\u001b[39m\u001b[39m\\\u001b[39m\u001b[39mCurrentVersion\u001b[39m\u001b[39m\\\u001b[39m\u001b[39mApp Paths\u001b[39m\u001b[39m\\\u001b[39m\u001b[39mmsedge.exe\u001b[39m\u001b[39m'\u001b[39m\u001b[39m).\u001b[39m\u001b[39m'\u001b[39m\u001b[39m(Default)\u001b[39m\u001b[39m'\u001b[39m\u001b[39m).ProductVersion\u001b[39m\u001b[39m\"\u001b[39m,\n\u001b[0;32m    205\u001b[0m                 \u001b[39mr\u001b[39m\u001b[39m\"\u001b[39m\u001b[39mGet-AppxPackage -Name *MicrosoftEdge.* | Foreach Version\u001b[39m\u001b[39m\"\u001b[39m,\n\u001b[0;32m    206\u001b[0m                 \u001b[39mr\u001b[39m\u001b[39m'\u001b[39m\u001b[39m(Get-ItemProperty -Path Registry::\u001b[39m\u001b[39m\"\u001b[39m\u001b[39mHKLM\u001b[39m\u001b[39m\\\u001b[39m\u001b[39mSOFTWARE\u001b[39m\u001b[39m\\\u001b[39m\u001b[39mWow6432Node\u001b[39m\u001b[39m\\\u001b[39m\u001b[39mMicrosoft\u001b[39m\u001b[39m\\\u001b[39m\u001b[39mWindows\u001b[39m\u001b[39m\\\u001b[39m\u001b[39mCurrentVersion\u001b[39m\u001b[39m\\\u001b[39m\u001b[39mUninstall\u001b[39m\u001b[39m\\\u001b[39m\u001b[39mMicrosoft Edge\u001b[39m\u001b[39m\"\u001b[39m\u001b[39m).version\u001b[39m\u001b[39m'\u001b[39m,\n\u001b[0;32m    207\u001b[0m             ),\n\u001b[0;32m    208\u001b[0m         },\n\u001b[0;32m    209\u001b[0m         \u001b[39m\"\u001b[39m\u001b[39mfirefox\u001b[39m\u001b[39m\"\u001b[39m: {\n\u001b[0;32m    210\u001b[0m             OSType\u001b[39m.\u001b[39mLINUX: linux_browser_apps_to_cmd(\u001b[39m\"\u001b[39m\u001b[39mfirefox\u001b[39m\u001b[39m\"\u001b[39m),\n\u001b[0;32m    211\u001b[0m             OSType\u001b[39m.\u001b[39mMAC: \u001b[39mr\u001b[39m\u001b[39m\"\u001b[39m\u001b[39m/Applications/Firefox.app/Contents/MacOS/firefox --version\u001b[39m\u001b[39m\"\u001b[39m,\n\u001b[1;32m--> 212\u001b[0m             OSType\u001b[39m.\u001b[39mWIN: windows_browser_apps_to_cmd(\n\u001b[0;32m    213\u001b[0m                 \u001b[39mr\u001b[39;49m\u001b[39m'\u001b[39;49m\u001b[39m(Get-Item -Path \u001b[39;49m\u001b[39m\"\u001b[39;49m\u001b[39m$env:PROGRAMFILES\u001b[39;49m\u001b[39m\\\u001b[39;49m\u001b[39mMozilla Firefox\u001b[39;49m\u001b[39m\\\u001b[39;49m\u001b[39mfirefox.exe\u001b[39;49m\u001b[39m\"\u001b[39;49m\u001b[39m).VersionInfo.FileVersion\u001b[39;49m\u001b[39m'\u001b[39;49m,\n\u001b[0;32m    214\u001b[0m                 \u001b[39mr\u001b[39;49m\u001b[39m'\u001b[39;49m\u001b[39m(Get-Item -Path \u001b[39;49m\u001b[39m\"\u001b[39;49m\u001b[39m$env:PROGRAMFILES (x86)\u001b[39;49m\u001b[39m\\\u001b[39;49m\u001b[39mMozilla Firefox\u001b[39;49m\u001b[39m\\\u001b[39;49m\u001b[39mfirefox.exe\u001b[39;49m\u001b[39m\"\u001b[39;49m\u001b[39m).VersionInfo.FileVersion\u001b[39;49m\u001b[39m'\u001b[39;49m,\n\u001b[0;32m    215\u001b[0m                 \u001b[39mr\u001b[39;49m\u001b[39m\"\u001b[39;49m\u001b[39m(Get-Item (Get-ItemProperty \u001b[39;49m\u001b[39m'\u001b[39;49m\u001b[39mHKLM:\u001b[39;49m\u001b[39m\\\u001b[39;49m\u001b[39mSOFTWARE\u001b[39;49m\u001b[39m\\\u001b[39;49m\u001b[39mMicrosoft\u001b[39;49m\u001b[39m\\\u001b[39;49m\u001b[39mWindows\u001b[39;49m\u001b[39m\\\u001b[39;49m\u001b[39mCurrentVersion\u001b[39;49m\u001b[39m\\\u001b[39;49m\u001b[39mApp Paths\u001b[39;49m\u001b[39m\\\u001b[39;49m\u001b[39mfirefox.exe\u001b[39;49m\u001b[39m'\u001b[39;49m\u001b[39m).\u001b[39;49m\u001b[39m'\u001b[39;49m\u001b[39m(Default)\u001b[39;49m\u001b[39m'\u001b[39;49m\u001b[39m).VersionInfo.ProductVersion\u001b[39;49m\u001b[39m\"\u001b[39;49m,\n\u001b[0;32m    216\u001b[0m                 \u001b[39mr\u001b[39;49m\u001b[39m'\u001b[39;49m\u001b[39m(Get-ItemProperty -Path Registry::\u001b[39;49m\u001b[39m\"\u001b[39;49m\u001b[39mHKLM\u001b[39;49m\u001b[39m\\\u001b[39;49m\u001b[39mSOFTWARE\u001b[39;49m\u001b[39m\\\u001b[39;49m\u001b[39mMozilla\u001b[39;49m\u001b[39m\\\u001b[39;49m\u001b[39mMozilla Firefox\u001b[39;49m\u001b[39m\"\u001b[39;49m\u001b[39m).CurrentVersion\u001b[39;49m\u001b[39m'\u001b[39;49m,\n\u001b[0;32m    217\u001b[0m             ),\n\u001b[0;32m    218\u001b[0m         },\n\u001b[0;32m    219\u001b[0m     }\n\u001b[0;32m    221\u001b[0m     \u001b[39mtry\u001b[39;00m:\n\u001b[0;32m    222\u001b[0m         cmd_mapping \u001b[39m=\u001b[39m cmd_mapping[browser_type][os_name()]\n",
      "File \u001b[1;32mc:\\Users\\proje\\anaconda3\\envs\\VerbalEnv2\\lib\\site-packages\\webdriver_manager\\core\\utils.py:122\u001b[0m, in \u001b[0;36mwindows_browser_apps_to_cmd\u001b[1;34m(*apps)\u001b[0m\n\u001b[0;32m    120\u001b[0m \u001b[39mdef\u001b[39;00m \u001b[39mwindows_browser_apps_to_cmd\u001b[39m(\u001b[39m*\u001b[39mapps: \u001b[39mstr\u001b[39m) \u001b[39m-\u001b[39m\u001b[39m>\u001b[39m \u001b[39mstr\u001b[39m:\n\u001b[0;32m    121\u001b[0m \u001b[39m    \u001b[39m\u001b[39m\"\"\"Create analogue of browser --version command for windows.\"\"\"\u001b[39;00m\n\u001b[1;32m--> 122\u001b[0m     powershell \u001b[39m=\u001b[39m determine_powershell()\n\u001b[0;32m    124\u001b[0m     first_hit_template \u001b[39m=\u001b[39m \u001b[39m\"\"\"\u001b[39m\u001b[39m$tmp = \u001b[39m\u001b[39m{expression}\u001b[39;00m\u001b[39m; if ($tmp) \u001b[39m\u001b[39m{{\u001b[39m\u001b[39mecho $tmp; Exit;}};\u001b[39m\u001b[39m\"\"\"\u001b[39m\n\u001b[0;32m    125\u001b[0m     script \u001b[39m=\u001b[39m \u001b[39m\"\u001b[39m\u001b[39m$ErrorActionPreference=\u001b[39m\u001b[39m'\u001b[39m\u001b[39msilentlycontinue\u001b[39m\u001b[39m'\u001b[39m\u001b[39m; \u001b[39m\u001b[39m\"\u001b[39m \u001b[39m+\u001b[39m \u001b[39m\"\u001b[39m\u001b[39m \u001b[39m\u001b[39m\"\u001b[39m\u001b[39m.\u001b[39mjoin(\n\u001b[0;32m    126\u001b[0m         first_hit_template\u001b[39m.\u001b[39mformat(expression\u001b[39m=\u001b[39me) \u001b[39mfor\u001b[39;00m e \u001b[39min\u001b[39;00m apps\n\u001b[0;32m    127\u001b[0m     )\n",
      "File \u001b[1;32mc:\\Users\\proje\\anaconda3\\envs\\VerbalEnv2\\lib\\site-packages\\webdriver_manager\\core\\utils.py:254\u001b[0m, in \u001b[0;36mdetermine_powershell\u001b[1;34m()\u001b[0m\n\u001b[0;32m    246\u001b[0m cmd \u001b[39m=\u001b[39m \u001b[39m\"\u001b[39m\u001b[39m(dir 2>&1 *`|echo CMD);&<# rem #>echo powershell\u001b[39m\u001b[39m\"\u001b[39m\n\u001b[0;32m    247\u001b[0m \u001b[39mwith\u001b[39;00m subprocess\u001b[39m.\u001b[39mPopen(\n\u001b[0;32m    248\u001b[0m         cmd,\n\u001b[0;32m    249\u001b[0m         stdout\u001b[39m=\u001b[39msubprocess\u001b[39m.\u001b[39mPIPE,\n\u001b[1;32m   (...)\u001b[0m\n\u001b[0;32m    252\u001b[0m         shell\u001b[39m=\u001b[39m\u001b[39mTrue\u001b[39;00m,\n\u001b[0;32m    253\u001b[0m ) \u001b[39mas\u001b[39;00m stream:\n\u001b[1;32m--> 254\u001b[0m     stdout \u001b[39m=\u001b[39m stream\u001b[39m.\u001b[39;49mcommunicate()[\u001b[39m0\u001b[39m]\u001b[39m.\u001b[39mdecode()\n\u001b[0;32m    255\u001b[0m \u001b[39mreturn\u001b[39;00m \u001b[39m\"\u001b[39m\u001b[39m\"\u001b[39m \u001b[39mif\u001b[39;00m stdout \u001b[39m==\u001b[39m \u001b[39m\"\u001b[39m\u001b[39mpowershell\u001b[39m\u001b[39m\"\u001b[39m \u001b[39melse\u001b[39;00m \u001b[39m\"\u001b[39m\u001b[39mpowershell\u001b[39m\u001b[39m\"\u001b[39m\n",
      "File \u001b[1;32mc:\\Users\\proje\\anaconda3\\envs\\VerbalEnv2\\lib\\subprocess.py:1141\u001b[0m, in \u001b[0;36mPopen.communicate\u001b[1;34m(self, input, timeout)\u001b[0m\n\u001b[0;32m   1139\u001b[0m     \u001b[39mself\u001b[39m\u001b[39m.\u001b[39m_stdin_write(\u001b[39minput\u001b[39m)\n\u001b[0;32m   1140\u001b[0m \u001b[39melif\u001b[39;00m \u001b[39mself\u001b[39m\u001b[39m.\u001b[39mstdout:\n\u001b[1;32m-> 1141\u001b[0m     stdout \u001b[39m=\u001b[39m \u001b[39mself\u001b[39;49m\u001b[39m.\u001b[39;49mstdout\u001b[39m.\u001b[39;49mread()\n\u001b[0;32m   1142\u001b[0m     \u001b[39mself\u001b[39m\u001b[39m.\u001b[39mstdout\u001b[39m.\u001b[39mclose()\n\u001b[0;32m   1143\u001b[0m \u001b[39melif\u001b[39;00m \u001b[39mself\u001b[39m\u001b[39m.\u001b[39mstderr:\n",
      "\u001b[1;31mKeyboardInterrupt\u001b[0m: "
     ]
    }
   ],
   "source": [
    "from selenium import webdriver\n",
    "from selenium.webdriver.firefox.service import Service\n",
    "from webdriver_manager.firefox import GeckoDriverManager\n",
    "\n",
    "# Set up the Firefox WebDriver\n",
    "driver = webdriver.Firefox(service=Service(GeckoDriverManager().install()))\n",
    "\n",
    "# Your code to interact with the driver\n",
    "# Go to the webpage\n",
    "driver.get(\"https://lichess.org/analysis\")\n",
    "\n",
    "# Take a screenshot and save it to the current directory\n",
    "driver.save_screenshot('lichess_analysis_screenshot.png')\n",
    "\n",
    "\n",
    "# Close the browser\n",
    "driver.quit()\n"
   ]
  },
  {
   "cell_type": "code",
   "execution_count": null,
   "metadata": {},
   "outputs": [],
   "source": [
    "def get_active_window_title():\n",
    "    \"\"\"Get the title of the active window.\"\"\"\n",
    "    hwnd = win32gui.GetForegroundWindow()\n",
    "    length = win32gui.GetWindowTextLength(hwnd)\n",
    "    return win32gui.GetWindowText(hwnd)"
   ]
  },
  {
   "cell_type": "code",
   "execution_count": null,
   "metadata": {},
   "outputs": [
    {
     "ename": "FileNotFoundError",
     "evalue": "[WinError 2] The system cannot find the file specified",
     "output_type": "error",
     "traceback": [
      "\u001b[1;31m---------------------------------------------------------------------------\u001b[0m",
      "\u001b[1;31mFileNotFoundError\u001b[0m                         Traceback (most recent call last)",
      "\u001b[1;32mc:\\Users\\proje\\Documents\\GitHub\\Bowser-attack\\screenshot_test.ipynb Cell 3\u001b[0m line \u001b[0;36m2\n\u001b[0;32m     <a href='vscode-notebook-cell:/c%3A/Users/proje/Documents/GitHub/Bowser-attack/screenshot_test.ipynb#W3sZmlsZQ%3D%3D?line=20'>21</a>\u001b[0m url \u001b[39m=\u001b[39m \u001b[39m\"\u001b[39m\u001b[39mhttps://www.google.com\u001b[39m\u001b[39m\"\u001b[39m\n\u001b[0;32m     <a href='vscode-notebook-cell:/c%3A/Users/proje/Documents/GitHub/Bowser-attack/screenshot_test.ipynb#W3sZmlsZQ%3D%3D?line=21'>22</a>\u001b[0m window_title \u001b[39m=\u001b[39m \u001b[39m\"\u001b[39m\u001b[39mGoogle - Google Chrome\u001b[39m\u001b[39m\"\u001b[39m  \u001b[39m# This needs to match the window title of Chrome.\u001b[39;00m\n\u001b[1;32m---> <a href='vscode-notebook-cell:/c%3A/Users/proje/Documents/GitHub/Bowser-attack/screenshot_test.ipynb#W3sZmlsZQ%3D%3D?line=22'>23</a>\u001b[0m subprocess\u001b[39m.\u001b[39;49mPopen([chrome_path, \u001b[39m'\u001b[39;49m\u001b[39m--new-window\u001b[39;49m\u001b[39m'\u001b[39;49m, url])\n\u001b[0;32m     <a href='vscode-notebook-cell:/c%3A/Users/proje/Documents/GitHub/Bowser-attack/screenshot_test.ipynb#W3sZmlsZQ%3D%3D?line=24'>25</a>\u001b[0m \u001b[39m# Wait a bit for the window to open and load the page.\u001b[39;00m\n\u001b[0;32m     <a href='vscode-notebook-cell:/c%3A/Users/proje/Documents/GitHub/Bowser-attack/screenshot_test.ipynb#W3sZmlsZQ%3D%3D?line=25'>26</a>\u001b[0m time\u001b[39m.\u001b[39msleep(\u001b[39m5\u001b[39m)\n",
      "File \u001b[1;32mc:\\Users\\proje\\anaconda3\\envs\\VerbalEnv2\\lib\\subprocess.py:971\u001b[0m, in \u001b[0;36mPopen.__init__\u001b[1;34m(self, args, bufsize, executable, stdin, stdout, stderr, preexec_fn, close_fds, shell, cwd, env, universal_newlines, startupinfo, creationflags, restore_signals, start_new_session, pass_fds, user, group, extra_groups, encoding, errors, text, umask, pipesize)\u001b[0m\n\u001b[0;32m    967\u001b[0m         \u001b[39mif\u001b[39;00m \u001b[39mself\u001b[39m\u001b[39m.\u001b[39mtext_mode:\n\u001b[0;32m    968\u001b[0m             \u001b[39mself\u001b[39m\u001b[39m.\u001b[39mstderr \u001b[39m=\u001b[39m io\u001b[39m.\u001b[39mTextIOWrapper(\u001b[39mself\u001b[39m\u001b[39m.\u001b[39mstderr,\n\u001b[0;32m    969\u001b[0m                     encoding\u001b[39m=\u001b[39mencoding, errors\u001b[39m=\u001b[39merrors)\n\u001b[1;32m--> 971\u001b[0m     \u001b[39mself\u001b[39;49m\u001b[39m.\u001b[39;49m_execute_child(args, executable, preexec_fn, close_fds,\n\u001b[0;32m    972\u001b[0m                         pass_fds, cwd, env,\n\u001b[0;32m    973\u001b[0m                         startupinfo, creationflags, shell,\n\u001b[0;32m    974\u001b[0m                         p2cread, p2cwrite,\n\u001b[0;32m    975\u001b[0m                         c2pread, c2pwrite,\n\u001b[0;32m    976\u001b[0m                         errread, errwrite,\n\u001b[0;32m    977\u001b[0m                         restore_signals,\n\u001b[0;32m    978\u001b[0m                         gid, gids, uid, umask,\n\u001b[0;32m    979\u001b[0m                         start_new_session)\n\u001b[0;32m    980\u001b[0m \u001b[39mexcept\u001b[39;00m:\n\u001b[0;32m    981\u001b[0m     \u001b[39m# Cleanup if the child failed starting.\u001b[39;00m\n\u001b[0;32m    982\u001b[0m     \u001b[39mfor\u001b[39;00m f \u001b[39min\u001b[39;00m \u001b[39mfilter\u001b[39m(\u001b[39mNone\u001b[39;00m, (\u001b[39mself\u001b[39m\u001b[39m.\u001b[39mstdin, \u001b[39mself\u001b[39m\u001b[39m.\u001b[39mstdout, \u001b[39mself\u001b[39m\u001b[39m.\u001b[39mstderr)):\n",
      "File \u001b[1;32mc:\\Users\\proje\\anaconda3\\envs\\VerbalEnv2\\lib\\subprocess.py:1456\u001b[0m, in \u001b[0;36mPopen._execute_child\u001b[1;34m(self, args, executable, preexec_fn, close_fds, pass_fds, cwd, env, startupinfo, creationflags, shell, p2cread, p2cwrite, c2pread, c2pwrite, errread, errwrite, unused_restore_signals, unused_gid, unused_gids, unused_uid, unused_umask, unused_start_new_session)\u001b[0m\n\u001b[0;32m   1454\u001b[0m \u001b[39m# Start the process\u001b[39;00m\n\u001b[0;32m   1455\u001b[0m \u001b[39mtry\u001b[39;00m:\n\u001b[1;32m-> 1456\u001b[0m     hp, ht, pid, tid \u001b[39m=\u001b[39m _winapi\u001b[39m.\u001b[39;49mCreateProcess(executable, args,\n\u001b[0;32m   1457\u001b[0m                              \u001b[39m# no special security\u001b[39;49;00m\n\u001b[0;32m   1458\u001b[0m                              \u001b[39mNone\u001b[39;49;00m, \u001b[39mNone\u001b[39;49;00m,\n\u001b[0;32m   1459\u001b[0m                              \u001b[39mint\u001b[39;49m(\u001b[39mnot\u001b[39;49;00m close_fds),\n\u001b[0;32m   1460\u001b[0m                              creationflags,\n\u001b[0;32m   1461\u001b[0m                              env,\n\u001b[0;32m   1462\u001b[0m                              cwd,\n\u001b[0;32m   1463\u001b[0m                              startupinfo)\n\u001b[0;32m   1464\u001b[0m \u001b[39mfinally\u001b[39;00m:\n\u001b[0;32m   1465\u001b[0m     \u001b[39m# Child is launched. Close the parent's copy of those pipe\u001b[39;00m\n\u001b[0;32m   1466\u001b[0m     \u001b[39m# handles that only the child should have open.  You need\u001b[39;00m\n\u001b[1;32m   (...)\u001b[0m\n\u001b[0;32m   1469\u001b[0m     \u001b[39m# pipe will not close when the child process exits and the\u001b[39;00m\n\u001b[0;32m   1470\u001b[0m     \u001b[39m# ReadFile will hang.\u001b[39;00m\n\u001b[0;32m   1471\u001b[0m     \u001b[39mself\u001b[39m\u001b[39m.\u001b[39m_close_pipe_fds(p2cread, p2cwrite,\n\u001b[0;32m   1472\u001b[0m                          c2pread, c2pwrite,\n\u001b[0;32m   1473\u001b[0m                          errread, errwrite)\n",
      "\u001b[1;31mFileNotFoundError\u001b[0m: [WinError 2] The system cannot find the file specified"
     ]
    }
   ],
   "source": [
    "import win32gui\n",
    "import win32con\n",
    "import win32process\n",
    "import subprocess\n",
    "import time\n",
    "from PIL import ImageGrab\n",
    "\n",
    "# Function to bring the window to the foreground\n",
    "def bring_to_foreground(window_title):\n",
    "    hwnd = win32gui.FindWindow(None, window_title)\n",
    "    if hwnd:\n",
    "        win32gui.ShowWindow(hwnd, win32con.SW_RESTORE)  # If minimized, bring to normal size.\n",
    "        win32gui.SetForegroundWindow(hwnd)  # Bring to the foreground.\n",
    "        rect = win32gui.GetWindowRect(hwnd)  # Get the window coordinates.\n",
    "        return rect\n",
    "    else:\n",
    "        return None\n",
    "\n",
    "# Start Chrome with a specific window title.\n",
    "chrome_path = \"C:/Program Files (x86)/Google/Chrome/Application/chrome.exe\"  # Adjust this path as necessary.\n",
    "url = \"https://www.google.com\"\n",
    "window_title = \"Google - Google Chrome\"  # This needs to match the window title of Chrome.\n",
    "subprocess.Popen([chrome_path, '--new-window', url])\n",
    "\n",
    "# Wait a bit for the window to open and load the page.\n",
    "time.sleep(5)\n",
    "\n",
    "# Bring the Chrome window to the foreground\n",
    "rect = bring_to_foreground(window_title)\n",
    "\n",
    "if rect:\n",
    "    # Take a screenshot of the window area\n",
    "    screenshot = ImageGrab.grab(rect)\n",
    "    screenshot_path = 'chrome_screenshot.png'\n",
    "    screenshot.save(screenshot_path)\n",
    "    print(f\"Screenshot saved to {screenshot_path}\")\n",
    "else:\n",
    "    print(\"Window not found!\")\n"
   ]
  },
  {
   "cell_type": "code",
   "execution_count": null,
   "metadata": {},
   "outputs": [
    {
     "name": "stdout",
     "output_type": "stream",
     "text": [
      "Collecting pyautogui\n",
      "  Downloading PyAutoGUI-0.9.54.tar.gz (61 kB)\n",
      "                                              0.0/61.2 kB ? eta -:--:--\n",
      "     ------                                   10.2/61.2 kB ? eta -:--:--\n",
      "     ------                                   10.2/61.2 kB ? eta -:--:--\n",
      "     ------------                           20.5/61.2 kB 108.9 kB/s eta 0:00:01\n",
      "     -------------------------              41.0/61.2 kB 196.9 kB/s eta 0:00:01\n",
      "     -------------------------------------- 61.2/61.2 kB 251.2 kB/s eta 0:00:00\n",
      "  Installing build dependencies: started\n",
      "  Installing build dependencies: finished with status 'done'\n",
      "  Getting requirements to build wheel: started\n",
      "  Getting requirements to build wheel: finished with status 'done'\n",
      "  Preparing metadata (pyproject.toml): started\n",
      "  Preparing metadata (pyproject.toml): finished with status 'done'\n",
      "Collecting pymsgbox (from pyautogui)\n",
      "  Using cached PyMsgBox-1.0.9.tar.gz (18 kB)\n",
      "  Installing build dependencies: started\n",
      "  Installing build dependencies: finished with status 'done'\n",
      "  Getting requirements to build wheel: started\n",
      "  Getting requirements to build wheel: finished with status 'done'\n",
      "  Preparing metadata (pyproject.toml): started\n",
      "  Preparing metadata (pyproject.toml): finished with status 'done'\n",
      "Collecting pytweening>=1.0.4 (from pyautogui)\n",
      "  Downloading pytweening-1.0.7.tar.gz (168 kB)\n",
      "                                              0.0/168.2 kB ? eta -:--:--\n",
      "     --------------                          61.4/168.2 kB 3.4 MB/s eta 0:00:01\n",
      "     -------------------------------------- 168.2/168.2 kB 3.4 MB/s eta 0:00:00\n",
      "  Preparing metadata (setup.py): started\n",
      "  Preparing metadata (setup.py): finished with status 'done'\n",
      "Collecting pyscreeze>=0.1.21 (from pyautogui)\n",
      "  Downloading PyScreeze-0.1.30.tar.gz (27 kB)\n",
      "  Installing build dependencies: started\n",
      "  Installing build dependencies: finished with status 'done'\n",
      "  Getting requirements to build wheel: started\n",
      "  Getting requirements to build wheel: finished with status 'done'\n",
      "  Preparing metadata (pyproject.toml): started\n",
      "  Preparing metadata (pyproject.toml): finished with status 'done'\n",
      "Collecting pygetwindow>=0.0.5 (from pyautogui)\n",
      "  Using cached PyGetWindow-0.0.9.tar.gz (9.7 kB)\n",
      "  Preparing metadata (setup.py): started\n",
      "  Preparing metadata (setup.py): finished with status 'done'\n",
      "Collecting mouseinfo (from pyautogui)\n",
      "  Using cached MouseInfo-0.1.3.tar.gz (10 kB)\n",
      "  Preparing metadata (setup.py): started\n",
      "  Preparing metadata (setup.py): finished with status 'done'\n",
      "Collecting pyrect (from pygetwindow>=0.0.5->pyautogui)\n",
      "  Using cached PyRect-0.2.0.tar.gz (17 kB)\n",
      "  Preparing metadata (setup.py): started\n",
      "  Preparing metadata (setup.py): finished with status 'done'\n",
      "Requirement already satisfied: Pillow>=9.2.0 in c:\\users\\proje\\anaconda3\\envs\\verbalenv2\\lib\\site-packages (from pyscreeze>=0.1.21->pyautogui) (10.1.0)\n",
      "Collecting pyperclip (from mouseinfo->pyautogui)\n",
      "  Using cached pyperclip-1.8.2.tar.gz (20 kB)\n",
      "  Preparing metadata (setup.py): started\n",
      "  Preparing metadata (setup.py): finished with status 'done'\n",
      "Building wheels for collected packages: pyautogui, pygetwindow, pyscreeze, pytweening, mouseinfo, pymsgbox, pyperclip, pyrect\n",
      "  Building wheel for pyautogui (pyproject.toml): started\n",
      "  Building wheel for pyautogui (pyproject.toml): finished with status 'done'\n",
      "  Created wheel for pyautogui: filename=PyAutoGUI-0.9.54-py3-none-any.whl size=37596 sha256=a6f2a5abb96218aef7c41998614b451cb89fb3a7e9bafe4c49229280fb6e8e10\n",
      "  Stored in directory: c:\\users\\proje\\appdata\\local\\pip\\cache\\wheels\\23\\a7\\1c\\5a51aaff3bbe110be4ddf766d429cc9d2fae7a72fc1b843e56\n",
      "  Building wheel for pygetwindow (setup.py): started\n",
      "  Building wheel for pygetwindow (setup.py): finished with status 'done'\n",
      "  Created wheel for pygetwindow: filename=PyGetWindow-0.0.9-py3-none-any.whl size=11079 sha256=3ec2ed9275ce2c93fcb2a57a52d9d4759f0cf7c433ffce45456589a8fd735520\n",
      "  Stored in directory: c:\\users\\proje\\appdata\\local\\pip\\cache\\wheels\\02\\f6\\64\\c5d427819f80553df2398bfecc351e94e00371c1dcb6edb24e\n",
      "  Building wheel for pyscreeze (pyproject.toml): started\n",
      "  Building wheel for pyscreeze (pyproject.toml): finished with status 'done'\n",
      "  Created wheel for pyscreeze: filename=PyScreeze-0.1.30-py3-none-any.whl size=14401 sha256=3404287781cc5b78d2bd209e0ffc7c07c39e85619dc9357cb7386ed2fde2aea5\n",
      "  Stored in directory: c:\\users\\proje\\appdata\\local\\pip\\cache\\wheels\\c4\\46\\42\\d3613adf9880c8b4a780c07a8cf85df12ca04a9a0ca77c6c02\n",
      "  Building wheel for pytweening (setup.py): started\n",
      "  Building wheel for pytweening (setup.py): finished with status 'done'\n",
      "  Created wheel for pytweening: filename=pytweening-1.0.7-py3-none-any.whl size=6214 sha256=dc7e6c334184216ead1f94092d0eafdad312b6f758972b8573f73fcba14085da\n",
      "  Stored in directory: c:\\users\\proje\\appdata\\local\\pip\\cache\\wheels\\ae\\a3\\d7\\36c45539416215425b3247e37b691a98a03b1db7b13b7f9632\n",
      "  Building wheel for mouseinfo (setup.py): started\n",
      "  Building wheel for mouseinfo (setup.py): finished with status 'done'\n",
      "  Created wheel for mouseinfo: filename=MouseInfo-0.1.3-py3-none-any.whl size=10906 sha256=1bd1415f416901a1748486cfefb60131e60d317c5a504d0966b978d4214d9f4b\n",
      "  Stored in directory: c:\\users\\proje\\appdata\\local\\pip\\cache\\wheels\\6e\\d5\\27\\2f1be84b3e6ccee99c82f50e3fe7fe6360dd30417109b49a72\n",
      "  Building wheel for pymsgbox (pyproject.toml): started\n",
      "  Building wheel for pymsgbox (pyproject.toml): finished with status 'done'\n",
      "  Created wheel for pymsgbox: filename=PyMsgBox-1.0.9-py3-none-any.whl size=7417 sha256=64d8a8a4a7c0ae2aa6b772d53b7ee320053013d5f2e41685743a851a1ccf37e3\n",
      "  Stored in directory: c:\\users\\proje\\appdata\\local\\pip\\cache\\wheels\\b9\\6a\\ba\\be2d7d78166ec8018c21d07241dffa54446c09652a267759ae\n",
      "  Building wheel for pyperclip (setup.py): started\n",
      "  Building wheel for pyperclip (setup.py): finished with status 'done'\n",
      "  Created wheel for pyperclip: filename=pyperclip-1.8.2-py3-none-any.whl size=11137 sha256=654a1bb9a9056f22e6475334f920978701defcdb55141e2b1a9cc58ef259f317\n",
      "  Stored in directory: c:\\users\\proje\\appdata\\local\\pip\\cache\\wheels\\04\\24\\fe\\140a94a7f1036003ede94579e6b4227fe96c840c6f4dcbe307\n",
      "  Building wheel for pyrect (setup.py): started\n",
      "  Building wheel for pyrect (setup.py): finished with status 'done'\n",
      "  Created wheel for pyrect: filename=PyRect-0.2.0-py2.py3-none-any.whl size=11205 sha256=0b14b90f5905322af4a9be553869c32d4507c7795d7472d8041591cb0709b12b\n",
      "  Stored in directory: c:\\users\\proje\\appdata\\local\\pip\\cache\\wheels\\d5\\4c\\bd\\42e4e23641afcd185d4e932784da37e6e04505da0cf3f7b832\n",
      "Successfully built pyautogui pygetwindow pyscreeze pytweening mouseinfo pymsgbox pyperclip pyrect\n",
      "Installing collected packages: pytweening, pyrect, pyperclip, pymsgbox, pyscreeze, pygetwindow, mouseinfo, pyautogui\n",
      "Successfully installed mouseinfo-0.1.3 pyautogui-0.9.54 pygetwindow-0.0.9 pymsgbox-1.0.9 pyperclip-1.8.2 pyrect-0.2.0 pyscreeze-0.1.30 pytweening-1.0.7\n"
     ]
    },
    {
     "name": "stderr",
     "output_type": "stream",
     "text": [
      "WARNING: Ignoring invalid distribution -illow (c:\\users\\proje\\anaconda3\\envs\\verbalenv2\\lib\\site-packages)\n",
      "WARNING: Ignoring invalid distribution -illow (c:\\users\\proje\\anaconda3\\envs\\verbalenv2\\lib\\site-packages)\n"
     ]
    }
   ],
   "source": [
    "!pip install pyautogui"
   ]
  },
  {
   "cell_type": "code",
   "execution_count": null,
   "metadata": {},
   "outputs": [],
   "source": []
  }
 ],
 "metadata": {
  "kernelspec": {
   "display_name": "VerbalEnv2",
   "language": "python",
   "name": "python3"
  },
  "language_info": {
   "codemirror_mode": {
    "name": "ipython",
    "version": 3
   },
   "file_extension": ".py",
   "mimetype": "text/x-python",
   "name": "python",
   "nbconvert_exporter": "python",
   "pygments_lexer": "ipython3",
   "version": "3.10.11"
  }
 },
 "nbformat": 4,
 "nbformat_minor": 2
}
