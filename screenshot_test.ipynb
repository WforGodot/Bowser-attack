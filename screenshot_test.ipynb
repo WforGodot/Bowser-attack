{
 "cells": [
  {
   "cell_type": "code",
   "execution_count": 8,
   "metadata": {},
   "outputs": [
    {
     "data": {
      "text/plain": [
       "True"
      ]
     },
     "execution_count": 8,
     "metadata": {},
     "output_type": "execute_result"
    }
   ],
   "source": [
    "from selenium import webdriver\n",
    "from selenium.webdriver.chrome.service import Service\n",
    "from webdriver_manager.chrome import ChromeDriverManager\n",
    "from selenium.webdriver.chrome.options import Options\n",
    "\n",
    "# Set up Chrome options\n",
    "chrome_options = Options()\n",
    "chrome_options.add_argument(\"--headless\")  # Run in headless mode, i.e., without a UI or display server dependencies\n",
    "chrome_options.add_argument(\"--disable-gpu\")  # Disable GPU hardware acceleration\n",
    "chrome_options.add_argument(\"--window-size=1920x1080\")  # Set window size to 1920x1080\n",
    "\n",
    "# Set up the Chrome WebDriver\n",
    "driver = webdriver.Chrome()\n",
    "\n",
    "# Go to the webpage\n",
    "driver.get(\"https://lichess.org/analysis\")\n",
    "\n",
    "# Take a screenshot and save it to the current directory\n",
    "driver.save_screenshot('lichess_analysis_screenshot.png')\n"
   ]
  },
  {
   "cell_type": "code",
   "execution_count": 4,
   "metadata": {},
   "outputs": [
    {
     "name": "stderr",
     "output_type": "stream",
     "text": [
      "[WDM] - Downloading: 17.8kB [00:00, 36.0MB/s]                   \n",
      "[WDM] - Downloading: 100%|██████████| 1.59M/1.59M [00:00<00:00, 3.16MB/s]\n"
     ]
    }
   ],
   "source": [
    "from selenium import webdriver\n",
    "from selenium.webdriver.firefox.service import Service\n",
    "from webdriver_manager.firefox import GeckoDriverManager\n",
    "\n",
    "# Set up the Firefox WebDriver\n",
    "driver = webdriver.Firefox(service=Service(GeckoDriverManager().install()))\n",
    "\n",
    "# Your code to interact with the driver\n",
    "# Go to the webpage\n",
    "driver.get(\"https://lichess.org/analysis\")\n",
    "\n",
    "# Take a screenshot and save it to the current directory\n",
    "driver.save_screenshot('lichess_analysis_screenshot.png')\n",
    "\n",
    "\n",
    "# Close the browser\n",
    "driver.quit()\n"
   ]
  },
  {
   "cell_type": "code",
   "execution_count": 5,
   "metadata": {},
   "outputs": [
    {
     "ename": "FileNotFoundError",
     "evalue": "[WinError 2] The system cannot find the file specified",
     "output_type": "error",
     "traceback": [
      "\u001b[1;31m---------------------------------------------------------------------------\u001b[0m",
      "\u001b[1;31mFileNotFoundError\u001b[0m                         Traceback (most recent call last)",
      "\u001b[1;32mc:\\Users\\proje\\Documents\\GitHub\\Bowser-attack\\screenshot_test.ipynb Cell 3\u001b[0m line \u001b[0;36m2\n\u001b[0;32m     <a href='vscode-notebook-cell:/c%3A/Users/proje/Documents/GitHub/Bowser-attack/screenshot_test.ipynb#W3sZmlsZQ%3D%3D?line=20'>21</a>\u001b[0m url \u001b[39m=\u001b[39m \u001b[39m\"\u001b[39m\u001b[39mhttps://www.google.com\u001b[39m\u001b[39m\"\u001b[39m\n\u001b[0;32m     <a href='vscode-notebook-cell:/c%3A/Users/proje/Documents/GitHub/Bowser-attack/screenshot_test.ipynb#W3sZmlsZQ%3D%3D?line=21'>22</a>\u001b[0m window_title \u001b[39m=\u001b[39m \u001b[39m\"\u001b[39m\u001b[39mGoogle - Google Chrome\u001b[39m\u001b[39m\"\u001b[39m  \u001b[39m# This needs to match the window title of Chrome.\u001b[39;00m\n\u001b[1;32m---> <a href='vscode-notebook-cell:/c%3A/Users/proje/Documents/GitHub/Bowser-attack/screenshot_test.ipynb#W3sZmlsZQ%3D%3D?line=22'>23</a>\u001b[0m subprocess\u001b[39m.\u001b[39;49mPopen([chrome_path, \u001b[39m'\u001b[39;49m\u001b[39m--new-window\u001b[39;49m\u001b[39m'\u001b[39;49m, url])\n\u001b[0;32m     <a href='vscode-notebook-cell:/c%3A/Users/proje/Documents/GitHub/Bowser-attack/screenshot_test.ipynb#W3sZmlsZQ%3D%3D?line=24'>25</a>\u001b[0m \u001b[39m# Wait a bit for the window to open and load the page.\u001b[39;00m\n\u001b[0;32m     <a href='vscode-notebook-cell:/c%3A/Users/proje/Documents/GitHub/Bowser-attack/screenshot_test.ipynb#W3sZmlsZQ%3D%3D?line=25'>26</a>\u001b[0m time\u001b[39m.\u001b[39msleep(\u001b[39m5\u001b[39m)\n",
      "File \u001b[1;32mc:\\Users\\proje\\anaconda3\\envs\\VerbalEnv2\\lib\\subprocess.py:971\u001b[0m, in \u001b[0;36mPopen.__init__\u001b[1;34m(self, args, bufsize, executable, stdin, stdout, stderr, preexec_fn, close_fds, shell, cwd, env, universal_newlines, startupinfo, creationflags, restore_signals, start_new_session, pass_fds, user, group, extra_groups, encoding, errors, text, umask, pipesize)\u001b[0m\n\u001b[0;32m    967\u001b[0m         \u001b[39mif\u001b[39;00m \u001b[39mself\u001b[39m\u001b[39m.\u001b[39mtext_mode:\n\u001b[0;32m    968\u001b[0m             \u001b[39mself\u001b[39m\u001b[39m.\u001b[39mstderr \u001b[39m=\u001b[39m io\u001b[39m.\u001b[39mTextIOWrapper(\u001b[39mself\u001b[39m\u001b[39m.\u001b[39mstderr,\n\u001b[0;32m    969\u001b[0m                     encoding\u001b[39m=\u001b[39mencoding, errors\u001b[39m=\u001b[39merrors)\n\u001b[1;32m--> 971\u001b[0m     \u001b[39mself\u001b[39;49m\u001b[39m.\u001b[39;49m_execute_child(args, executable, preexec_fn, close_fds,\n\u001b[0;32m    972\u001b[0m                         pass_fds, cwd, env,\n\u001b[0;32m    973\u001b[0m                         startupinfo, creationflags, shell,\n\u001b[0;32m    974\u001b[0m                         p2cread, p2cwrite,\n\u001b[0;32m    975\u001b[0m                         c2pread, c2pwrite,\n\u001b[0;32m    976\u001b[0m                         errread, errwrite,\n\u001b[0;32m    977\u001b[0m                         restore_signals,\n\u001b[0;32m    978\u001b[0m                         gid, gids, uid, umask,\n\u001b[0;32m    979\u001b[0m                         start_new_session)\n\u001b[0;32m    980\u001b[0m \u001b[39mexcept\u001b[39;00m:\n\u001b[0;32m    981\u001b[0m     \u001b[39m# Cleanup if the child failed starting.\u001b[39;00m\n\u001b[0;32m    982\u001b[0m     \u001b[39mfor\u001b[39;00m f \u001b[39min\u001b[39;00m \u001b[39mfilter\u001b[39m(\u001b[39mNone\u001b[39;00m, (\u001b[39mself\u001b[39m\u001b[39m.\u001b[39mstdin, \u001b[39mself\u001b[39m\u001b[39m.\u001b[39mstdout, \u001b[39mself\u001b[39m\u001b[39m.\u001b[39mstderr)):\n",
      "File \u001b[1;32mc:\\Users\\proje\\anaconda3\\envs\\VerbalEnv2\\lib\\subprocess.py:1456\u001b[0m, in \u001b[0;36mPopen._execute_child\u001b[1;34m(self, args, executable, preexec_fn, close_fds, pass_fds, cwd, env, startupinfo, creationflags, shell, p2cread, p2cwrite, c2pread, c2pwrite, errread, errwrite, unused_restore_signals, unused_gid, unused_gids, unused_uid, unused_umask, unused_start_new_session)\u001b[0m\n\u001b[0;32m   1454\u001b[0m \u001b[39m# Start the process\u001b[39;00m\n\u001b[0;32m   1455\u001b[0m \u001b[39mtry\u001b[39;00m:\n\u001b[1;32m-> 1456\u001b[0m     hp, ht, pid, tid \u001b[39m=\u001b[39m _winapi\u001b[39m.\u001b[39;49mCreateProcess(executable, args,\n\u001b[0;32m   1457\u001b[0m                              \u001b[39m# no special security\u001b[39;49;00m\n\u001b[0;32m   1458\u001b[0m                              \u001b[39mNone\u001b[39;49;00m, \u001b[39mNone\u001b[39;49;00m,\n\u001b[0;32m   1459\u001b[0m                              \u001b[39mint\u001b[39;49m(\u001b[39mnot\u001b[39;49;00m close_fds),\n\u001b[0;32m   1460\u001b[0m                              creationflags,\n\u001b[0;32m   1461\u001b[0m                              env,\n\u001b[0;32m   1462\u001b[0m                              cwd,\n\u001b[0;32m   1463\u001b[0m                              startupinfo)\n\u001b[0;32m   1464\u001b[0m \u001b[39mfinally\u001b[39;00m:\n\u001b[0;32m   1465\u001b[0m     \u001b[39m# Child is launched. Close the parent's copy of those pipe\u001b[39;00m\n\u001b[0;32m   1466\u001b[0m     \u001b[39m# handles that only the child should have open.  You need\u001b[39;00m\n\u001b[1;32m   (...)\u001b[0m\n\u001b[0;32m   1469\u001b[0m     \u001b[39m# pipe will not close when the child process exits and the\u001b[39;00m\n\u001b[0;32m   1470\u001b[0m     \u001b[39m# ReadFile will hang.\u001b[39;00m\n\u001b[0;32m   1471\u001b[0m     \u001b[39mself\u001b[39m\u001b[39m.\u001b[39m_close_pipe_fds(p2cread, p2cwrite,\n\u001b[0;32m   1472\u001b[0m                          c2pread, c2pwrite,\n\u001b[0;32m   1473\u001b[0m                          errread, errwrite)\n",
      "\u001b[1;31mFileNotFoundError\u001b[0m: [WinError 2] The system cannot find the file specified"
     ]
    }
   ],
   "source": [
    "import win32gui\n",
    "import win32con\n",
    "import win32process\n",
    "import subprocess\n",
    "import time\n",
    "from PIL import ImageGrab\n",
    "\n",
    "# Function to bring the window to the foreground\n",
    "def bring_to_foreground(window_title):\n",
    "    hwnd = win32gui.FindWindow(None, window_title)\n",
    "    if hwnd:\n",
    "        win32gui.ShowWindow(hwnd, win32con.SW_RESTORE)  # If minimized, bring to normal size.\n",
    "        win32gui.SetForegroundWindow(hwnd)  # Bring to the foreground.\n",
    "        rect = win32gui.GetWindowRect(hwnd)  # Get the window coordinates.\n",
    "        return rect\n",
    "    else:\n",
    "        return None\n",
    "\n",
    "# Start Chrome with a specific window title.\n",
    "chrome_path = \"C:/Program Files (x86)/Google/Chrome/Application/chrome.exe\"  # Adjust this path as necessary.\n",
    "url = \"https://www.google.com\"\n",
    "window_title = \"Google - Google Chrome\"  # This needs to match the window title of Chrome.\n",
    "subprocess.Popen([chrome_path, '--new-window', url])\n",
    "\n",
    "# Wait a bit for the window to open and load the page.\n",
    "time.sleep(5)\n",
    "\n",
    "# Bring the Chrome window to the foreground\n",
    "rect = bring_to_foreground(window_title)\n",
    "\n",
    "if rect:\n",
    "    # Take a screenshot of the window area\n",
    "    screenshot = ImageGrab.grab(rect)\n",
    "    screenshot_path = 'chrome_screenshot.png'\n",
    "    screenshot.save(screenshot_path)\n",
    "    print(f\"Screenshot saved to {screenshot_path}\")\n",
    "else:\n",
    "    print(\"Window not found!\")\n"
   ]
  },
  {
   "cell_type": "code",
   "execution_count": null,
   "metadata": {},
   "outputs": [],
   "source": []
  }
 ],
 "metadata": {
  "kernelspec": {
   "display_name": "VerbalEnv2",
   "language": "python",
   "name": "python3"
  },
  "language_info": {
   "codemirror_mode": {
    "name": "ipython",
    "version": 3
   },
   "file_extension": ".py",
   "mimetype": "text/x-python",
   "name": "python",
   "nbconvert_exporter": "python",
   "pygments_lexer": "ipython3",
   "version": "3.10.11"
  }
 },
 "nbformat": 4,
 "nbformat_minor": 2
}
